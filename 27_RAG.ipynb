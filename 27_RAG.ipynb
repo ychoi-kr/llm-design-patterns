{
  "nbformat": 4,
  "nbformat_minor": 0,
  "metadata": {
    "colab": {
      "provenance": []
    },
    "kernelspec": {
      "name": "python3",
      "display_name": "Python 3"
    },
    "language_info": {
      "name": "python"
    },
    "widgets": {
      "application/vnd.jupyter.widget-state+json": {
        "c1cc30fed6e14b34b24cabe1d9081670": {
          "model_module": "@jupyter-widgets/controls",
          "model_name": "HBoxModel",
          "model_module_version": "1.5.0",
          "state": {
            "_dom_classes": [],
            "_model_module": "@jupyter-widgets/controls",
            "_model_module_version": "1.5.0",
            "_model_name": "HBoxModel",
            "_view_count": null,
            "_view_module": "@jupyter-widgets/controls",
            "_view_module_version": "1.5.0",
            "_view_name": "HBoxView",
            "box_style": "",
            "children": [
              "IPY_MODEL_60b7d9c1d0ae45f4be697316650aa7a3",
              "IPY_MODEL_bd8b514aa6a041168de3d28a77c35f8a",
              "IPY_MODEL_343fef8a0e844e2a92a1071acf1e1461"
            ],
            "layout": "IPY_MODEL_afec23477feb40148bc581d76c03cda9"
          }
        },
        "60b7d9c1d0ae45f4be697316650aa7a3": {
          "model_module": "@jupyter-widgets/controls",
          "model_name": "HTMLModel",
          "model_module_version": "1.5.0",
          "state": {
            "_dom_classes": [],
            "_model_module": "@jupyter-widgets/controls",
            "_model_module_version": "1.5.0",
            "_model_name": "HTMLModel",
            "_view_count": null,
            "_view_module": "@jupyter-widgets/controls",
            "_view_module_version": "1.5.0",
            "_view_name": "HTMLView",
            "description": "",
            "description_tooltip": null,
            "layout": "IPY_MODEL_2fc74ecd569c4fd297bc078eef46c41f",
            "placeholder": "​",
            "style": "IPY_MODEL_a4af2b57f07549218b9e11e4b60281f4",
            "value": "Computing transition probabilities: 100%"
          }
        },
        "bd8b514aa6a041168de3d28a77c35f8a": {
          "model_module": "@jupyter-widgets/controls",
          "model_name": "FloatProgressModel",
          "model_module_version": "1.5.0",
          "state": {
            "_dom_classes": [],
            "_model_module": "@jupyter-widgets/controls",
            "_model_module_version": "1.5.0",
            "_model_name": "FloatProgressModel",
            "_view_count": null,
            "_view_module": "@jupyter-widgets/controls",
            "_view_module_version": "1.5.0",
            "_view_name": "ProgressView",
            "bar_style": "success",
            "description": "",
            "description_tooltip": null,
            "layout": "IPY_MODEL_f46c357b037b46c19756dba7bf0a2d25",
            "max": 2,
            "min": 0,
            "orientation": "horizontal",
            "style": "IPY_MODEL_61449c7623074d308c3e8e421e5f99fc",
            "value": 2
          }
        },
        "343fef8a0e844e2a92a1071acf1e1461": {
          "model_module": "@jupyter-widgets/controls",
          "model_name": "HTMLModel",
          "model_module_version": "1.5.0",
          "state": {
            "_dom_classes": [],
            "_model_module": "@jupyter-widgets/controls",
            "_model_module_version": "1.5.0",
            "_model_name": "HTMLModel",
            "_view_count": null,
            "_view_module": "@jupyter-widgets/controls",
            "_view_module_version": "1.5.0",
            "_view_name": "HTMLView",
            "description": "",
            "description_tooltip": null,
            "layout": "IPY_MODEL_162bd7db9c024d7281a7ffbb6d2bc601",
            "placeholder": "​",
            "style": "IPY_MODEL_3dee922bc1d841499f44876463414303",
            "value": " 2/2 [00:00&lt;00:00, 180.71it/s]"
          }
        },
        "afec23477feb40148bc581d76c03cda9": {
          "model_module": "@jupyter-widgets/base",
          "model_name": "LayoutModel",
          "model_module_version": "1.2.0",
          "state": {
            "_model_module": "@jupyter-widgets/base",
            "_model_module_version": "1.2.0",
            "_model_name": "LayoutModel",
            "_view_count": null,
            "_view_module": "@jupyter-widgets/base",
            "_view_module_version": "1.2.0",
            "_view_name": "LayoutView",
            "align_content": null,
            "align_items": null,
            "align_self": null,
            "border": null,
            "bottom": null,
            "display": null,
            "flex": null,
            "flex_flow": null,
            "grid_area": null,
            "grid_auto_columns": null,
            "grid_auto_flow": null,
            "grid_auto_rows": null,
            "grid_column": null,
            "grid_gap": null,
            "grid_row": null,
            "grid_template_areas": null,
            "grid_template_columns": null,
            "grid_template_rows": null,
            "height": null,
            "justify_content": null,
            "justify_items": null,
            "left": null,
            "margin": null,
            "max_height": null,
            "max_width": null,
            "min_height": null,
            "min_width": null,
            "object_fit": null,
            "object_position": null,
            "order": null,
            "overflow": null,
            "overflow_x": null,
            "overflow_y": null,
            "padding": null,
            "right": null,
            "top": null,
            "visibility": null,
            "width": null
          }
        },
        "2fc74ecd569c4fd297bc078eef46c41f": {
          "model_module": "@jupyter-widgets/base",
          "model_name": "LayoutModel",
          "model_module_version": "1.2.0",
          "state": {
            "_model_module": "@jupyter-widgets/base",
            "_model_module_version": "1.2.0",
            "_model_name": "LayoutModel",
            "_view_count": null,
            "_view_module": "@jupyter-widgets/base",
            "_view_module_version": "1.2.0",
            "_view_name": "LayoutView",
            "align_content": null,
            "align_items": null,
            "align_self": null,
            "border": null,
            "bottom": null,
            "display": null,
            "flex": null,
            "flex_flow": null,
            "grid_area": null,
            "grid_auto_columns": null,
            "grid_auto_flow": null,
            "grid_auto_rows": null,
            "grid_column": null,
            "grid_gap": null,
            "grid_row": null,
            "grid_template_areas": null,
            "grid_template_columns": null,
            "grid_template_rows": null,
            "height": null,
            "justify_content": null,
            "justify_items": null,
            "left": null,
            "margin": null,
            "max_height": null,
            "max_width": null,
            "min_height": null,
            "min_width": null,
            "object_fit": null,
            "object_position": null,
            "order": null,
            "overflow": null,
            "overflow_x": null,
            "overflow_y": null,
            "padding": null,
            "right": null,
            "top": null,
            "visibility": null,
            "width": null
          }
        },
        "a4af2b57f07549218b9e11e4b60281f4": {
          "model_module": "@jupyter-widgets/controls",
          "model_name": "DescriptionStyleModel",
          "model_module_version": "1.5.0",
          "state": {
            "_model_module": "@jupyter-widgets/controls",
            "_model_module_version": "1.5.0",
            "_model_name": "DescriptionStyleModel",
            "_view_count": null,
            "_view_module": "@jupyter-widgets/base",
            "_view_module_version": "1.2.0",
            "_view_name": "StyleView",
            "description_width": ""
          }
        },
        "f46c357b037b46c19756dba7bf0a2d25": {
          "model_module": "@jupyter-widgets/base",
          "model_name": "LayoutModel",
          "model_module_version": "1.2.0",
          "state": {
            "_model_module": "@jupyter-widgets/base",
            "_model_module_version": "1.2.0",
            "_model_name": "LayoutModel",
            "_view_count": null,
            "_view_module": "@jupyter-widgets/base",
            "_view_module_version": "1.2.0",
            "_view_name": "LayoutView",
            "align_content": null,
            "align_items": null,
            "align_self": null,
            "border": null,
            "bottom": null,
            "display": null,
            "flex": null,
            "flex_flow": null,
            "grid_area": null,
            "grid_auto_columns": null,
            "grid_auto_flow": null,
            "grid_auto_rows": null,
            "grid_column": null,
            "grid_gap": null,
            "grid_row": null,
            "grid_template_areas": null,
            "grid_template_columns": null,
            "grid_template_rows": null,
            "height": null,
            "justify_content": null,
            "justify_items": null,
            "left": null,
            "margin": null,
            "max_height": null,
            "max_width": null,
            "min_height": null,
            "min_width": null,
            "object_fit": null,
            "object_position": null,
            "order": null,
            "overflow": null,
            "overflow_x": null,
            "overflow_y": null,
            "padding": null,
            "right": null,
            "top": null,
            "visibility": null,
            "width": null
          }
        },
        "61449c7623074d308c3e8e421e5f99fc": {
          "model_module": "@jupyter-widgets/controls",
          "model_name": "ProgressStyleModel",
          "model_module_version": "1.5.0",
          "state": {
            "_model_module": "@jupyter-widgets/controls",
            "_model_module_version": "1.5.0",
            "_model_name": "ProgressStyleModel",
            "_view_count": null,
            "_view_module": "@jupyter-widgets/base",
            "_view_module_version": "1.2.0",
            "_view_name": "StyleView",
            "bar_color": null,
            "description_width": ""
          }
        },
        "162bd7db9c024d7281a7ffbb6d2bc601": {
          "model_module": "@jupyter-widgets/base",
          "model_name": "LayoutModel",
          "model_module_version": "1.2.0",
          "state": {
            "_model_module": "@jupyter-widgets/base",
            "_model_module_version": "1.2.0",
            "_model_name": "LayoutModel",
            "_view_count": null,
            "_view_module": "@jupyter-widgets/base",
            "_view_module_version": "1.2.0",
            "_view_name": "LayoutView",
            "align_content": null,
            "align_items": null,
            "align_self": null,
            "border": null,
            "bottom": null,
            "display": null,
            "flex": null,
            "flex_flow": null,
            "grid_area": null,
            "grid_auto_columns": null,
            "grid_auto_flow": null,
            "grid_auto_rows": null,
            "grid_column": null,
            "grid_gap": null,
            "grid_row": null,
            "grid_template_areas": null,
            "grid_template_columns": null,
            "grid_template_rows": null,
            "height": null,
            "justify_content": null,
            "justify_items": null,
            "left": null,
            "margin": null,
            "max_height": null,
            "max_width": null,
            "min_height": null,
            "min_width": null,
            "object_fit": null,
            "object_position": null,
            "order": null,
            "overflow": null,
            "overflow_x": null,
            "overflow_y": null,
            "padding": null,
            "right": null,
            "top": null,
            "visibility": null,
            "width": null
          }
        },
        "3dee922bc1d841499f44876463414303": {
          "model_module": "@jupyter-widgets/controls",
          "model_name": "DescriptionStyleModel",
          "model_module_version": "1.5.0",
          "state": {
            "_model_module": "@jupyter-widgets/controls",
            "_model_module_version": "1.5.0",
            "_model_name": "DescriptionStyleModel",
            "_view_count": null,
            "_view_module": "@jupyter-widgets/base",
            "_view_module_version": "1.2.0",
            "_view_name": "StyleView",
            "description_width": ""
          }
        },
        "0764d0b069c041c686ed3937ee92d1ed": {
          "model_module": "@jupyter-widgets/controls",
          "model_name": "HBoxModel",
          "model_module_version": "1.5.0",
          "state": {
            "_dom_classes": [],
            "_model_module": "@jupyter-widgets/controls",
            "_model_module_version": "1.5.0",
            "_model_name": "HBoxModel",
            "_view_count": null,
            "_view_module": "@jupyter-widgets/controls",
            "_view_module_version": "1.5.0",
            "_view_name": "HBoxView",
            "box_style": "",
            "children": [
              "IPY_MODEL_b872c634e30d49f6aacf2b24fbf04f37",
              "IPY_MODEL_43f1e3b4e456498a8a5c659fdd744384",
              "IPY_MODEL_f019cd1e86a74b2597c66437cdaee121"
            ],
            "layout": "IPY_MODEL_f88862b998084c1787b31a17fd887982"
          }
        },
        "b872c634e30d49f6aacf2b24fbf04f37": {
          "model_module": "@jupyter-widgets/controls",
          "model_name": "HTMLModel",
          "model_module_version": "1.5.0",
          "state": {
            "_dom_classes": [],
            "_model_module": "@jupyter-widgets/controls",
            "_model_module_version": "1.5.0",
            "_model_name": "HTMLModel",
            "_view_count": null,
            "_view_module": "@jupyter-widgets/controls",
            "_view_module_version": "1.5.0",
            "_view_name": "HTMLView",
            "description": "",
            "description_tooltip": null,
            "layout": "IPY_MODEL_6e4a2c782e724dea9d51275ae7e40220",
            "placeholder": "​",
            "style": "IPY_MODEL_4cb60df1a6534ece852d3a367946b394",
            "value": "Computing transition probabilities: 100%"
          }
        },
        "43f1e3b4e456498a8a5c659fdd744384": {
          "model_module": "@jupyter-widgets/controls",
          "model_name": "FloatProgressModel",
          "model_module_version": "1.5.0",
          "state": {
            "_dom_classes": [],
            "_model_module": "@jupyter-widgets/controls",
            "_model_module_version": "1.5.0",
            "_model_name": "FloatProgressModel",
            "_view_count": null,
            "_view_module": "@jupyter-widgets/controls",
            "_view_module_version": "1.5.0",
            "_view_name": "ProgressView",
            "bar_style": "success",
            "description": "",
            "description_tooltip": null,
            "layout": "IPY_MODEL_538ad1c42ec443a28dea96e361b5fd78",
            "max": 2,
            "min": 0,
            "orientation": "horizontal",
            "style": "IPY_MODEL_31d0220470de452e93fee32683e08090",
            "value": 2
          }
        },
        "f019cd1e86a74b2597c66437cdaee121": {
          "model_module": "@jupyter-widgets/controls",
          "model_name": "HTMLModel",
          "model_module_version": "1.5.0",
          "state": {
            "_dom_classes": [],
            "_model_module": "@jupyter-widgets/controls",
            "_model_module_version": "1.5.0",
            "_model_name": "HTMLModel",
            "_view_count": null,
            "_view_module": "@jupyter-widgets/controls",
            "_view_module_version": "1.5.0",
            "_view_name": "HTMLView",
            "description": "",
            "description_tooltip": null,
            "layout": "IPY_MODEL_da956272e8984838bd2eeab2db44ffea",
            "placeholder": "​",
            "style": "IPY_MODEL_87551e3fc0704209a2d8fe81c22e30ef",
            "value": " 2/2 [00:00&lt;00:00, 184.95it/s]"
          }
        },
        "f88862b998084c1787b31a17fd887982": {
          "model_module": "@jupyter-widgets/base",
          "model_name": "LayoutModel",
          "model_module_version": "1.2.0",
          "state": {
            "_model_module": "@jupyter-widgets/base",
            "_model_module_version": "1.2.0",
            "_model_name": "LayoutModel",
            "_view_count": null,
            "_view_module": "@jupyter-widgets/base",
            "_view_module_version": "1.2.0",
            "_view_name": "LayoutView",
            "align_content": null,
            "align_items": null,
            "align_self": null,
            "border": null,
            "bottom": null,
            "display": null,
            "flex": null,
            "flex_flow": null,
            "grid_area": null,
            "grid_auto_columns": null,
            "grid_auto_flow": null,
            "grid_auto_rows": null,
            "grid_column": null,
            "grid_gap": null,
            "grid_row": null,
            "grid_template_areas": null,
            "grid_template_columns": null,
            "grid_template_rows": null,
            "height": null,
            "justify_content": null,
            "justify_items": null,
            "left": null,
            "margin": null,
            "max_height": null,
            "max_width": null,
            "min_height": null,
            "min_width": null,
            "object_fit": null,
            "object_position": null,
            "order": null,
            "overflow": null,
            "overflow_x": null,
            "overflow_y": null,
            "padding": null,
            "right": null,
            "top": null,
            "visibility": null,
            "width": null
          }
        },
        "6e4a2c782e724dea9d51275ae7e40220": {
          "model_module": "@jupyter-widgets/base",
          "model_name": "LayoutModel",
          "model_module_version": "1.2.0",
          "state": {
            "_model_module": "@jupyter-widgets/base",
            "_model_module_version": "1.2.0",
            "_model_name": "LayoutModel",
            "_view_count": null,
            "_view_module": "@jupyter-widgets/base",
            "_view_module_version": "1.2.0",
            "_view_name": "LayoutView",
            "align_content": null,
            "align_items": null,
            "align_self": null,
            "border": null,
            "bottom": null,
            "display": null,
            "flex": null,
            "flex_flow": null,
            "grid_area": null,
            "grid_auto_columns": null,
            "grid_auto_flow": null,
            "grid_auto_rows": null,
            "grid_column": null,
            "grid_gap": null,
            "grid_row": null,
            "grid_template_areas": null,
            "grid_template_columns": null,
            "grid_template_rows": null,
            "height": null,
            "justify_content": null,
            "justify_items": null,
            "left": null,
            "margin": null,
            "max_height": null,
            "max_width": null,
            "min_height": null,
            "min_width": null,
            "object_fit": null,
            "object_position": null,
            "order": null,
            "overflow": null,
            "overflow_x": null,
            "overflow_y": null,
            "padding": null,
            "right": null,
            "top": null,
            "visibility": null,
            "width": null
          }
        },
        "4cb60df1a6534ece852d3a367946b394": {
          "model_module": "@jupyter-widgets/controls",
          "model_name": "DescriptionStyleModel",
          "model_module_version": "1.5.0",
          "state": {
            "_model_module": "@jupyter-widgets/controls",
            "_model_module_version": "1.5.0",
            "_model_name": "DescriptionStyleModel",
            "_view_count": null,
            "_view_module": "@jupyter-widgets/base",
            "_view_module_version": "1.2.0",
            "_view_name": "StyleView",
            "description_width": ""
          }
        },
        "538ad1c42ec443a28dea96e361b5fd78": {
          "model_module": "@jupyter-widgets/base",
          "model_name": "LayoutModel",
          "model_module_version": "1.2.0",
          "state": {
            "_model_module": "@jupyter-widgets/base",
            "_model_module_version": "1.2.0",
            "_model_name": "LayoutModel",
            "_view_count": null,
            "_view_module": "@jupyter-widgets/base",
            "_view_module_version": "1.2.0",
            "_view_name": "LayoutView",
            "align_content": null,
            "align_items": null,
            "align_self": null,
            "border": null,
            "bottom": null,
            "display": null,
            "flex": null,
            "flex_flow": null,
            "grid_area": null,
            "grid_auto_columns": null,
            "grid_auto_flow": null,
            "grid_auto_rows": null,
            "grid_column": null,
            "grid_gap": null,
            "grid_row": null,
            "grid_template_areas": null,
            "grid_template_columns": null,
            "grid_template_rows": null,
            "height": null,
            "justify_content": null,
            "justify_items": null,
            "left": null,
            "margin": null,
            "max_height": null,
            "max_width": null,
            "min_height": null,
            "min_width": null,
            "object_fit": null,
            "object_position": null,
            "order": null,
            "overflow": null,
            "overflow_x": null,
            "overflow_y": null,
            "padding": null,
            "right": null,
            "top": null,
            "visibility": null,
            "width": null
          }
        },
        "31d0220470de452e93fee32683e08090": {
          "model_module": "@jupyter-widgets/controls",
          "model_name": "ProgressStyleModel",
          "model_module_version": "1.5.0",
          "state": {
            "_model_module": "@jupyter-widgets/controls",
            "_model_module_version": "1.5.0",
            "_model_name": "ProgressStyleModel",
            "_view_count": null,
            "_view_module": "@jupyter-widgets/base",
            "_view_module_version": "1.2.0",
            "_view_name": "StyleView",
            "bar_color": null,
            "description_width": ""
          }
        },
        "da956272e8984838bd2eeab2db44ffea": {
          "model_module": "@jupyter-widgets/base",
          "model_name": "LayoutModel",
          "model_module_version": "1.2.0",
          "state": {
            "_model_module": "@jupyter-widgets/base",
            "_model_module_version": "1.2.0",
            "_model_name": "LayoutModel",
            "_view_count": null,
            "_view_module": "@jupyter-widgets/base",
            "_view_module_version": "1.2.0",
            "_view_name": "LayoutView",
            "align_content": null,
            "align_items": null,
            "align_self": null,
            "border": null,
            "bottom": null,
            "display": null,
            "flex": null,
            "flex_flow": null,
            "grid_area": null,
            "grid_auto_columns": null,
            "grid_auto_flow": null,
            "grid_auto_rows": null,
            "grid_column": null,
            "grid_gap": null,
            "grid_row": null,
            "grid_template_areas": null,
            "grid_template_columns": null,
            "grid_template_rows": null,
            "height": null,
            "justify_content": null,
            "justify_items": null,
            "left": null,
            "margin": null,
            "max_height": null,
            "max_width": null,
            "min_height": null,
            "min_width": null,
            "object_fit": null,
            "object_position": null,
            "order": null,
            "overflow": null,
            "overflow_x": null,
            "overflow_y": null,
            "padding": null,
            "right": null,
            "top": null,
            "visibility": null,
            "width": null
          }
        },
        "87551e3fc0704209a2d8fe81c22e30ef": {
          "model_module": "@jupyter-widgets/controls",
          "model_name": "DescriptionStyleModel",
          "model_module_version": "1.5.0",
          "state": {
            "_model_module": "@jupyter-widgets/controls",
            "_model_module_version": "1.5.0",
            "_model_name": "DescriptionStyleModel",
            "_view_count": null,
            "_view_module": "@jupyter-widgets/base",
            "_view_module_version": "1.2.0",
            "_view_name": "StyleView",
            "description_width": ""
          }
        },
        "9c1633accf9944b499bef081823e1289": {
          "model_module": "@jupyter-widgets/controls",
          "model_name": "HBoxModel",
          "model_module_version": "1.5.0",
          "state": {
            "_dom_classes": [],
            "_model_module": "@jupyter-widgets/controls",
            "_model_module_version": "1.5.0",
            "_model_name": "HBoxModel",
            "_view_count": null,
            "_view_module": "@jupyter-widgets/controls",
            "_view_module_version": "1.5.0",
            "_view_name": "HBoxView",
            "box_style": "",
            "children": [
              "IPY_MODEL_2fc4f88898834744ad5d50a5a9431664",
              "IPY_MODEL_269c8c81b10a484fa5df528f7a5acce4",
              "IPY_MODEL_ac80aa7115924c24af3f8ba0e297b930"
            ],
            "layout": "IPY_MODEL_f0560538c19148cfa400496590fff9e2"
          }
        },
        "2fc4f88898834744ad5d50a5a9431664": {
          "model_module": "@jupyter-widgets/controls",
          "model_name": "HTMLModel",
          "model_module_version": "1.5.0",
          "state": {
            "_dom_classes": [],
            "_model_module": "@jupyter-widgets/controls",
            "_model_module_version": "1.5.0",
            "_model_name": "HTMLModel",
            "_view_count": null,
            "_view_module": "@jupyter-widgets/controls",
            "_view_module_version": "1.5.0",
            "_view_name": "HTMLView",
            "description": "",
            "description_tooltip": null,
            "layout": "IPY_MODEL_1e198ca1f87842eeb8ce84cc299a0c23",
            "placeholder": "​",
            "style": "IPY_MODEL_022387eca9a9464b996c3b89e1235400",
            "value": "Computing transition probabilities: 100%"
          }
        },
        "269c8c81b10a484fa5df528f7a5acce4": {
          "model_module": "@jupyter-widgets/controls",
          "model_name": "FloatProgressModel",
          "model_module_version": "1.5.0",
          "state": {
            "_dom_classes": [],
            "_model_module": "@jupyter-widgets/controls",
            "_model_module_version": "1.5.0",
            "_model_name": "FloatProgressModel",
            "_view_count": null,
            "_view_module": "@jupyter-widgets/controls",
            "_view_module_version": "1.5.0",
            "_view_name": "ProgressView",
            "bar_style": "success",
            "description": "",
            "description_tooltip": null,
            "layout": "IPY_MODEL_bb6afc5f54fd4e27ad5d8cd809474b24",
            "max": 3,
            "min": 0,
            "orientation": "horizontal",
            "style": "IPY_MODEL_44735e4a31994a33ac1d5c2f20837c1b",
            "value": 3
          }
        },
        "ac80aa7115924c24af3f8ba0e297b930": {
          "model_module": "@jupyter-widgets/controls",
          "model_name": "HTMLModel",
          "model_module_version": "1.5.0",
          "state": {
            "_dom_classes": [],
            "_model_module": "@jupyter-widgets/controls",
            "_model_module_version": "1.5.0",
            "_model_name": "HTMLModel",
            "_view_count": null,
            "_view_module": "@jupyter-widgets/controls",
            "_view_module_version": "1.5.0",
            "_view_name": "HTMLView",
            "description": "",
            "description_tooltip": null,
            "layout": "IPY_MODEL_4f51e89a32a24dd4ae16823c2056582d",
            "placeholder": "​",
            "style": "IPY_MODEL_41f44edfaed44690939c19bad3fb9d9f",
            "value": " 3/3 [00:00&lt;00:00, 81.39it/s]"
          }
        },
        "f0560538c19148cfa400496590fff9e2": {
          "model_module": "@jupyter-widgets/base",
          "model_name": "LayoutModel",
          "model_module_version": "1.2.0",
          "state": {
            "_model_module": "@jupyter-widgets/base",
            "_model_module_version": "1.2.0",
            "_model_name": "LayoutModel",
            "_view_count": null,
            "_view_module": "@jupyter-widgets/base",
            "_view_module_version": "1.2.0",
            "_view_name": "LayoutView",
            "align_content": null,
            "align_items": null,
            "align_self": null,
            "border": null,
            "bottom": null,
            "display": null,
            "flex": null,
            "flex_flow": null,
            "grid_area": null,
            "grid_auto_columns": null,
            "grid_auto_flow": null,
            "grid_auto_rows": null,
            "grid_column": null,
            "grid_gap": null,
            "grid_row": null,
            "grid_template_areas": null,
            "grid_template_columns": null,
            "grid_template_rows": null,
            "height": null,
            "justify_content": null,
            "justify_items": null,
            "left": null,
            "margin": null,
            "max_height": null,
            "max_width": null,
            "min_height": null,
            "min_width": null,
            "object_fit": null,
            "object_position": null,
            "order": null,
            "overflow": null,
            "overflow_x": null,
            "overflow_y": null,
            "padding": null,
            "right": null,
            "top": null,
            "visibility": null,
            "width": null
          }
        },
        "1e198ca1f87842eeb8ce84cc299a0c23": {
          "model_module": "@jupyter-widgets/base",
          "model_name": "LayoutModel",
          "model_module_version": "1.2.0",
          "state": {
            "_model_module": "@jupyter-widgets/base",
            "_model_module_version": "1.2.0",
            "_model_name": "LayoutModel",
            "_view_count": null,
            "_view_module": "@jupyter-widgets/base",
            "_view_module_version": "1.2.0",
            "_view_name": "LayoutView",
            "align_content": null,
            "align_items": null,
            "align_self": null,
            "border": null,
            "bottom": null,
            "display": null,
            "flex": null,
            "flex_flow": null,
            "grid_area": null,
            "grid_auto_columns": null,
            "grid_auto_flow": null,
            "grid_auto_rows": null,
            "grid_column": null,
            "grid_gap": null,
            "grid_row": null,
            "grid_template_areas": null,
            "grid_template_columns": null,
            "grid_template_rows": null,
            "height": null,
            "justify_content": null,
            "justify_items": null,
            "left": null,
            "margin": null,
            "max_height": null,
            "max_width": null,
            "min_height": null,
            "min_width": null,
            "object_fit": null,
            "object_position": null,
            "order": null,
            "overflow": null,
            "overflow_x": null,
            "overflow_y": null,
            "padding": null,
            "right": null,
            "top": null,
            "visibility": null,
            "width": null
          }
        },
        "022387eca9a9464b996c3b89e1235400": {
          "model_module": "@jupyter-widgets/controls",
          "model_name": "DescriptionStyleModel",
          "model_module_version": "1.5.0",
          "state": {
            "_model_module": "@jupyter-widgets/controls",
            "_model_module_version": "1.5.0",
            "_model_name": "DescriptionStyleModel",
            "_view_count": null,
            "_view_module": "@jupyter-widgets/base",
            "_view_module_version": "1.2.0",
            "_view_name": "StyleView",
            "description_width": ""
          }
        },
        "bb6afc5f54fd4e27ad5d8cd809474b24": {
          "model_module": "@jupyter-widgets/base",
          "model_name": "LayoutModel",
          "model_module_version": "1.2.0",
          "state": {
            "_model_module": "@jupyter-widgets/base",
            "_model_module_version": "1.2.0",
            "_model_name": "LayoutModel",
            "_view_count": null,
            "_view_module": "@jupyter-widgets/base",
            "_view_module_version": "1.2.0",
            "_view_name": "LayoutView",
            "align_content": null,
            "align_items": null,
            "align_self": null,
            "border": null,
            "bottom": null,
            "display": null,
            "flex": null,
            "flex_flow": null,
            "grid_area": null,
            "grid_auto_columns": null,
            "grid_auto_flow": null,
            "grid_auto_rows": null,
            "grid_column": null,
            "grid_gap": null,
            "grid_row": null,
            "grid_template_areas": null,
            "grid_template_columns": null,
            "grid_template_rows": null,
            "height": null,
            "justify_content": null,
            "justify_items": null,
            "left": null,
            "margin": null,
            "max_height": null,
            "max_width": null,
            "min_height": null,
            "min_width": null,
            "object_fit": null,
            "object_position": null,
            "order": null,
            "overflow": null,
            "overflow_x": null,
            "overflow_y": null,
            "padding": null,
            "right": null,
            "top": null,
            "visibility": null,
            "width": null
          }
        },
        "44735e4a31994a33ac1d5c2f20837c1b": {
          "model_module": "@jupyter-widgets/controls",
          "model_name": "ProgressStyleModel",
          "model_module_version": "1.5.0",
          "state": {
            "_model_module": "@jupyter-widgets/controls",
            "_model_module_version": "1.5.0",
            "_model_name": "ProgressStyleModel",
            "_view_count": null,
            "_view_module": "@jupyter-widgets/base",
            "_view_module_version": "1.2.0",
            "_view_name": "StyleView",
            "bar_color": null,
            "description_width": ""
          }
        },
        "4f51e89a32a24dd4ae16823c2056582d": {
          "model_module": "@jupyter-widgets/base",
          "model_name": "LayoutModel",
          "model_module_version": "1.2.0",
          "state": {
            "_model_module": "@jupyter-widgets/base",
            "_model_module_version": "1.2.0",
            "_model_name": "LayoutModel",
            "_view_count": null,
            "_view_module": "@jupyter-widgets/base",
            "_view_module_version": "1.2.0",
            "_view_name": "LayoutView",
            "align_content": null,
            "align_items": null,
            "align_self": null,
            "border": null,
            "bottom": null,
            "display": null,
            "flex": null,
            "flex_flow": null,
            "grid_area": null,
            "grid_auto_columns": null,
            "grid_auto_flow": null,
            "grid_auto_rows": null,
            "grid_column": null,
            "grid_gap": null,
            "grid_row": null,
            "grid_template_areas": null,
            "grid_template_columns": null,
            "grid_template_rows": null,
            "height": null,
            "justify_content": null,
            "justify_items": null,
            "left": null,
            "margin": null,
            "max_height": null,
            "max_width": null,
            "min_height": null,
            "min_width": null,
            "object_fit": null,
            "object_position": null,
            "order": null,
            "overflow": null,
            "overflow_x": null,
            "overflow_y": null,
            "padding": null,
            "right": null,
            "top": null,
            "visibility": null,
            "width": null
          }
        },
        "41f44edfaed44690939c19bad3fb9d9f": {
          "model_module": "@jupyter-widgets/controls",
          "model_name": "DescriptionStyleModel",
          "model_module_version": "1.5.0",
          "state": {
            "_model_module": "@jupyter-widgets/controls",
            "_model_module_version": "1.5.0",
            "_model_name": "DescriptionStyleModel",
            "_view_count": null,
            "_view_module": "@jupyter-widgets/base",
            "_view_module_version": "1.2.0",
            "_view_name": "StyleView",
            "description_width": ""
          }
        },
        "8bc257890b504e67b7929b2328f5db6f": {
          "model_module": "@jupyter-widgets/controls",
          "model_name": "HBoxModel",
          "model_module_version": "1.5.0",
          "state": {
            "_dom_classes": [],
            "_model_module": "@jupyter-widgets/controls",
            "_model_module_version": "1.5.0",
            "_model_name": "HBoxModel",
            "_view_count": null,
            "_view_module": "@jupyter-widgets/controls",
            "_view_module_version": "1.5.0",
            "_view_name": "HBoxView",
            "box_style": "",
            "children": [
              "IPY_MODEL_2b301a25f3e645d995dfda592d126ef3",
              "IPY_MODEL_59976c974fdb4f1b9f4f6fc7b7bba77c",
              "IPY_MODEL_d942b67884834fb5b8f0faa5e1226923"
            ],
            "layout": "IPY_MODEL_f451d0d7b2134bca9bbd07adaa7b747e"
          }
        },
        "2b301a25f3e645d995dfda592d126ef3": {
          "model_module": "@jupyter-widgets/controls",
          "model_name": "HTMLModel",
          "model_module_version": "1.5.0",
          "state": {
            "_dom_classes": [],
            "_model_module": "@jupyter-widgets/controls",
            "_model_module_version": "1.5.0",
            "_model_name": "HTMLModel",
            "_view_count": null,
            "_view_module": "@jupyter-widgets/controls",
            "_view_module_version": "1.5.0",
            "_view_name": "HTMLView",
            "description": "",
            "description_tooltip": null,
            "layout": "IPY_MODEL_8afc82c99a15410cbe6387d7e2eb0e08",
            "placeholder": "​",
            "style": "IPY_MODEL_5848082f07e84c4196bb538cc839a943",
            "value": "Computing transition probabilities: 100%"
          }
        },
        "59976c974fdb4f1b9f4f6fc7b7bba77c": {
          "model_module": "@jupyter-widgets/controls",
          "model_name": "FloatProgressModel",
          "model_module_version": "1.5.0",
          "state": {
            "_dom_classes": [],
            "_model_module": "@jupyter-widgets/controls",
            "_model_module_version": "1.5.0",
            "_model_name": "FloatProgressModel",
            "_view_count": null,
            "_view_module": "@jupyter-widgets/controls",
            "_view_module_version": "1.5.0",
            "_view_name": "ProgressView",
            "bar_style": "success",
            "description": "",
            "description_tooltip": null,
            "layout": "IPY_MODEL_9651358657df4fbcaa813bcc91d7b6f6",
            "max": 3,
            "min": 0,
            "orientation": "horizontal",
            "style": "IPY_MODEL_579e06fe7fd74d328642592c4a19cb41",
            "value": 3
          }
        },
        "d942b67884834fb5b8f0faa5e1226923": {
          "model_module": "@jupyter-widgets/controls",
          "model_name": "HTMLModel",
          "model_module_version": "1.5.0",
          "state": {
            "_dom_classes": [],
            "_model_module": "@jupyter-widgets/controls",
            "_model_module_version": "1.5.0",
            "_model_name": "HTMLModel",
            "_view_count": null,
            "_view_module": "@jupyter-widgets/controls",
            "_view_module_version": "1.5.0",
            "_view_name": "HTMLView",
            "description": "",
            "description_tooltip": null,
            "layout": "IPY_MODEL_f0041594e0074c9eaa4f279847896d0e",
            "placeholder": "​",
            "style": "IPY_MODEL_9d5df51346584eaf873debff7ae8cb74",
            "value": " 3/3 [00:00&lt;00:00, 264.33it/s]"
          }
        },
        "f451d0d7b2134bca9bbd07adaa7b747e": {
          "model_module": "@jupyter-widgets/base",
          "model_name": "LayoutModel",
          "model_module_version": "1.2.0",
          "state": {
            "_model_module": "@jupyter-widgets/base",
            "_model_module_version": "1.2.0",
            "_model_name": "LayoutModel",
            "_view_count": null,
            "_view_module": "@jupyter-widgets/base",
            "_view_module_version": "1.2.0",
            "_view_name": "LayoutView",
            "align_content": null,
            "align_items": null,
            "align_self": null,
            "border": null,
            "bottom": null,
            "display": null,
            "flex": null,
            "flex_flow": null,
            "grid_area": null,
            "grid_auto_columns": null,
            "grid_auto_flow": null,
            "grid_auto_rows": null,
            "grid_column": null,
            "grid_gap": null,
            "grid_row": null,
            "grid_template_areas": null,
            "grid_template_columns": null,
            "grid_template_rows": null,
            "height": null,
            "justify_content": null,
            "justify_items": null,
            "left": null,
            "margin": null,
            "max_height": null,
            "max_width": null,
            "min_height": null,
            "min_width": null,
            "object_fit": null,
            "object_position": null,
            "order": null,
            "overflow": null,
            "overflow_x": null,
            "overflow_y": null,
            "padding": null,
            "right": null,
            "top": null,
            "visibility": null,
            "width": null
          }
        },
        "8afc82c99a15410cbe6387d7e2eb0e08": {
          "model_module": "@jupyter-widgets/base",
          "model_name": "LayoutModel",
          "model_module_version": "1.2.0",
          "state": {
            "_model_module": "@jupyter-widgets/base",
            "_model_module_version": "1.2.0",
            "_model_name": "LayoutModel",
            "_view_count": null,
            "_view_module": "@jupyter-widgets/base",
            "_view_module_version": "1.2.0",
            "_view_name": "LayoutView",
            "align_content": null,
            "align_items": null,
            "align_self": null,
            "border": null,
            "bottom": null,
            "display": null,
            "flex": null,
            "flex_flow": null,
            "grid_area": null,
            "grid_auto_columns": null,
            "grid_auto_flow": null,
            "grid_auto_rows": null,
            "grid_column": null,
            "grid_gap": null,
            "grid_row": null,
            "grid_template_areas": null,
            "grid_template_columns": null,
            "grid_template_rows": null,
            "height": null,
            "justify_content": null,
            "justify_items": null,
            "left": null,
            "margin": null,
            "max_height": null,
            "max_width": null,
            "min_height": null,
            "min_width": null,
            "object_fit": null,
            "object_position": null,
            "order": null,
            "overflow": null,
            "overflow_x": null,
            "overflow_y": null,
            "padding": null,
            "right": null,
            "top": null,
            "visibility": null,
            "width": null
          }
        },
        "5848082f07e84c4196bb538cc839a943": {
          "model_module": "@jupyter-widgets/controls",
          "model_name": "DescriptionStyleModel",
          "model_module_version": "1.5.0",
          "state": {
            "_model_module": "@jupyter-widgets/controls",
            "_model_module_version": "1.5.0",
            "_model_name": "DescriptionStyleModel",
            "_view_count": null,
            "_view_module": "@jupyter-widgets/base",
            "_view_module_version": "1.2.0",
            "_view_name": "StyleView",
            "description_width": ""
          }
        },
        "9651358657df4fbcaa813bcc91d7b6f6": {
          "model_module": "@jupyter-widgets/base",
          "model_name": "LayoutModel",
          "model_module_version": "1.2.0",
          "state": {
            "_model_module": "@jupyter-widgets/base",
            "_model_module_version": "1.2.0",
            "_model_name": "LayoutModel",
            "_view_count": null,
            "_view_module": "@jupyter-widgets/base",
            "_view_module_version": "1.2.0",
            "_view_name": "LayoutView",
            "align_content": null,
            "align_items": null,
            "align_self": null,
            "border": null,
            "bottom": null,
            "display": null,
            "flex": null,
            "flex_flow": null,
            "grid_area": null,
            "grid_auto_columns": null,
            "grid_auto_flow": null,
            "grid_auto_rows": null,
            "grid_column": null,
            "grid_gap": null,
            "grid_row": null,
            "grid_template_areas": null,
            "grid_template_columns": null,
            "grid_template_rows": null,
            "height": null,
            "justify_content": null,
            "justify_items": null,
            "left": null,
            "margin": null,
            "max_height": null,
            "max_width": null,
            "min_height": null,
            "min_width": null,
            "object_fit": null,
            "object_position": null,
            "order": null,
            "overflow": null,
            "overflow_x": null,
            "overflow_y": null,
            "padding": null,
            "right": null,
            "top": null,
            "visibility": null,
            "width": null
          }
        },
        "579e06fe7fd74d328642592c4a19cb41": {
          "model_module": "@jupyter-widgets/controls",
          "model_name": "ProgressStyleModel",
          "model_module_version": "1.5.0",
          "state": {
            "_model_module": "@jupyter-widgets/controls",
            "_model_module_version": "1.5.0",
            "_model_name": "ProgressStyleModel",
            "_view_count": null,
            "_view_module": "@jupyter-widgets/base",
            "_view_module_version": "1.2.0",
            "_view_name": "StyleView",
            "bar_color": null,
            "description_width": ""
          }
        },
        "f0041594e0074c9eaa4f279847896d0e": {
          "model_module": "@jupyter-widgets/base",
          "model_name": "LayoutModel",
          "model_module_version": "1.2.0",
          "state": {
            "_model_module": "@jupyter-widgets/base",
            "_model_module_version": "1.2.0",
            "_model_name": "LayoutModel",
            "_view_count": null,
            "_view_module": "@jupyter-widgets/base",
            "_view_module_version": "1.2.0",
            "_view_name": "LayoutView",
            "align_content": null,
            "align_items": null,
            "align_self": null,
            "border": null,
            "bottom": null,
            "display": null,
            "flex": null,
            "flex_flow": null,
            "grid_area": null,
            "grid_auto_columns": null,
            "grid_auto_flow": null,
            "grid_auto_rows": null,
            "grid_column": null,
            "grid_gap": null,
            "grid_row": null,
            "grid_template_areas": null,
            "grid_template_columns": null,
            "grid_template_rows": null,
            "height": null,
            "justify_content": null,
            "justify_items": null,
            "left": null,
            "margin": null,
            "max_height": null,
            "max_width": null,
            "min_height": null,
            "min_width": null,
            "object_fit": null,
            "object_position": null,
            "order": null,
            "overflow": null,
            "overflow_x": null,
            "overflow_y": null,
            "padding": null,
            "right": null,
            "top": null,
            "visibility": null,
            "width": null
          }
        },
        "9d5df51346584eaf873debff7ae8cb74": {
          "model_module": "@jupyter-widgets/controls",
          "model_name": "DescriptionStyleModel",
          "model_module_version": "1.5.0",
          "state": {
            "_model_module": "@jupyter-widgets/controls",
            "_model_module_version": "1.5.0",
            "_model_name": "DescriptionStyleModel",
            "_view_count": null,
            "_view_module": "@jupyter-widgets/base",
            "_view_module_version": "1.2.0",
            "_view_name": "StyleView",
            "description_width": ""
          }
        },
        "e5d1120937184ed0a005ba6ff954cf1c": {
          "model_module": "@jupyter-widgets/controls",
          "model_name": "HBoxModel",
          "model_module_version": "1.5.0",
          "state": {
            "_dom_classes": [],
            "_model_module": "@jupyter-widgets/controls",
            "_model_module_version": "1.5.0",
            "_model_name": "HBoxModel",
            "_view_count": null,
            "_view_module": "@jupyter-widgets/controls",
            "_view_module_version": "1.5.0",
            "_view_name": "HBoxView",
            "box_style": "",
            "children": [
              "IPY_MODEL_4d5b3183ceab49c887105dc18a00e011",
              "IPY_MODEL_6ce4c24aff7946999c037dc133a26b47",
              "IPY_MODEL_a0e0475c85d14e6db90c931bdf6d0ce4"
            ],
            "layout": "IPY_MODEL_0e8c4996e9ae4fce99aae4e6f79941a1"
          }
        },
        "4d5b3183ceab49c887105dc18a00e011": {
          "model_module": "@jupyter-widgets/controls",
          "model_name": "HTMLModel",
          "model_module_version": "1.5.0",
          "state": {
            "_dom_classes": [],
            "_model_module": "@jupyter-widgets/controls",
            "_model_module_version": "1.5.0",
            "_model_name": "HTMLModel",
            "_view_count": null,
            "_view_module": "@jupyter-widgets/controls",
            "_view_module_version": "1.5.0",
            "_view_name": "HTMLView",
            "description": "",
            "description_tooltip": null,
            "layout": "IPY_MODEL_73e3195af7174faa9862d0e6de9dae54",
            "placeholder": "​",
            "style": "IPY_MODEL_9c57f5f79ecf4f54850864cbaf8e5a37",
            "value": "Computing transition probabilities: 100%"
          }
        },
        "6ce4c24aff7946999c037dc133a26b47": {
          "model_module": "@jupyter-widgets/controls",
          "model_name": "FloatProgressModel",
          "model_module_version": "1.5.0",
          "state": {
            "_dom_classes": [],
            "_model_module": "@jupyter-widgets/controls",
            "_model_module_version": "1.5.0",
            "_model_name": "FloatProgressModel",
            "_view_count": null,
            "_view_module": "@jupyter-widgets/controls",
            "_view_module_version": "1.5.0",
            "_view_name": "ProgressView",
            "bar_style": "success",
            "description": "",
            "description_tooltip": null,
            "layout": "IPY_MODEL_0b1dd51fcde0402aab345ee1e97b88a7",
            "max": 2,
            "min": 0,
            "orientation": "horizontal",
            "style": "IPY_MODEL_1d89a147ee654c49b3255f59431c31b7",
            "value": 2
          }
        },
        "a0e0475c85d14e6db90c931bdf6d0ce4": {
          "model_module": "@jupyter-widgets/controls",
          "model_name": "HTMLModel",
          "model_module_version": "1.5.0",
          "state": {
            "_dom_classes": [],
            "_model_module": "@jupyter-widgets/controls",
            "_model_module_version": "1.5.0",
            "_model_name": "HTMLModel",
            "_view_count": null,
            "_view_module": "@jupyter-widgets/controls",
            "_view_module_version": "1.5.0",
            "_view_name": "HTMLView",
            "description": "",
            "description_tooltip": null,
            "layout": "IPY_MODEL_d040529f59664482b8588febdce1bfe0",
            "placeholder": "​",
            "style": "IPY_MODEL_6b0715416b044b039198dfb79669a3c8",
            "value": " 2/2 [00:00&lt;00:00, 86.14it/s]"
          }
        },
        "0e8c4996e9ae4fce99aae4e6f79941a1": {
          "model_module": "@jupyter-widgets/base",
          "model_name": "LayoutModel",
          "model_module_version": "1.2.0",
          "state": {
            "_model_module": "@jupyter-widgets/base",
            "_model_module_version": "1.2.0",
            "_model_name": "LayoutModel",
            "_view_count": null,
            "_view_module": "@jupyter-widgets/base",
            "_view_module_version": "1.2.0",
            "_view_name": "LayoutView",
            "align_content": null,
            "align_items": null,
            "align_self": null,
            "border": null,
            "bottom": null,
            "display": null,
            "flex": null,
            "flex_flow": null,
            "grid_area": null,
            "grid_auto_columns": null,
            "grid_auto_flow": null,
            "grid_auto_rows": null,
            "grid_column": null,
            "grid_gap": null,
            "grid_row": null,
            "grid_template_areas": null,
            "grid_template_columns": null,
            "grid_template_rows": null,
            "height": null,
            "justify_content": null,
            "justify_items": null,
            "left": null,
            "margin": null,
            "max_height": null,
            "max_width": null,
            "min_height": null,
            "min_width": null,
            "object_fit": null,
            "object_position": null,
            "order": null,
            "overflow": null,
            "overflow_x": null,
            "overflow_y": null,
            "padding": null,
            "right": null,
            "top": null,
            "visibility": null,
            "width": null
          }
        },
        "73e3195af7174faa9862d0e6de9dae54": {
          "model_module": "@jupyter-widgets/base",
          "model_name": "LayoutModel",
          "model_module_version": "1.2.0",
          "state": {
            "_model_module": "@jupyter-widgets/base",
            "_model_module_version": "1.2.0",
            "_model_name": "LayoutModel",
            "_view_count": null,
            "_view_module": "@jupyter-widgets/base",
            "_view_module_version": "1.2.0",
            "_view_name": "LayoutView",
            "align_content": null,
            "align_items": null,
            "align_self": null,
            "border": null,
            "bottom": null,
            "display": null,
            "flex": null,
            "flex_flow": null,
            "grid_area": null,
            "grid_auto_columns": null,
            "grid_auto_flow": null,
            "grid_auto_rows": null,
            "grid_column": null,
            "grid_gap": null,
            "grid_row": null,
            "grid_template_areas": null,
            "grid_template_columns": null,
            "grid_template_rows": null,
            "height": null,
            "justify_content": null,
            "justify_items": null,
            "left": null,
            "margin": null,
            "max_height": null,
            "max_width": null,
            "min_height": null,
            "min_width": null,
            "object_fit": null,
            "object_position": null,
            "order": null,
            "overflow": null,
            "overflow_x": null,
            "overflow_y": null,
            "padding": null,
            "right": null,
            "top": null,
            "visibility": null,
            "width": null
          }
        },
        "9c57f5f79ecf4f54850864cbaf8e5a37": {
          "model_module": "@jupyter-widgets/controls",
          "model_name": "DescriptionStyleModel",
          "model_module_version": "1.5.0",
          "state": {
            "_model_module": "@jupyter-widgets/controls",
            "_model_module_version": "1.5.0",
            "_model_name": "DescriptionStyleModel",
            "_view_count": null,
            "_view_module": "@jupyter-widgets/base",
            "_view_module_version": "1.2.0",
            "_view_name": "StyleView",
            "description_width": ""
          }
        },
        "0b1dd51fcde0402aab345ee1e97b88a7": {
          "model_module": "@jupyter-widgets/base",
          "model_name": "LayoutModel",
          "model_module_version": "1.2.0",
          "state": {
            "_model_module": "@jupyter-widgets/base",
            "_model_module_version": "1.2.0",
            "_model_name": "LayoutModel",
            "_view_count": null,
            "_view_module": "@jupyter-widgets/base",
            "_view_module_version": "1.2.0",
            "_view_name": "LayoutView",
            "align_content": null,
            "align_items": null,
            "align_self": null,
            "border": null,
            "bottom": null,
            "display": null,
            "flex": null,
            "flex_flow": null,
            "grid_area": null,
            "grid_auto_columns": null,
            "grid_auto_flow": null,
            "grid_auto_rows": null,
            "grid_column": null,
            "grid_gap": null,
            "grid_row": null,
            "grid_template_areas": null,
            "grid_template_columns": null,
            "grid_template_rows": null,
            "height": null,
            "justify_content": null,
            "justify_items": null,
            "left": null,
            "margin": null,
            "max_height": null,
            "max_width": null,
            "min_height": null,
            "min_width": null,
            "object_fit": null,
            "object_position": null,
            "order": null,
            "overflow": null,
            "overflow_x": null,
            "overflow_y": null,
            "padding": null,
            "right": null,
            "top": null,
            "visibility": null,
            "width": null
          }
        },
        "1d89a147ee654c49b3255f59431c31b7": {
          "model_module": "@jupyter-widgets/controls",
          "model_name": "ProgressStyleModel",
          "model_module_version": "1.5.0",
          "state": {
            "_model_module": "@jupyter-widgets/controls",
            "_model_module_version": "1.5.0",
            "_model_name": "ProgressStyleModel",
            "_view_count": null,
            "_view_module": "@jupyter-widgets/base",
            "_view_module_version": "1.2.0",
            "_view_name": "StyleView",
            "bar_color": null,
            "description_width": ""
          }
        },
        "d040529f59664482b8588febdce1bfe0": {
          "model_module": "@jupyter-widgets/base",
          "model_name": "LayoutModel",
          "model_module_version": "1.2.0",
          "state": {
            "_model_module": "@jupyter-widgets/base",
            "_model_module_version": "1.2.0",
            "_model_name": "LayoutModel",
            "_view_count": null,
            "_view_module": "@jupyter-widgets/base",
            "_view_module_version": "1.2.0",
            "_view_name": "LayoutView",
            "align_content": null,
            "align_items": null,
            "align_self": null,
            "border": null,
            "bottom": null,
            "display": null,
            "flex": null,
            "flex_flow": null,
            "grid_area": null,
            "grid_auto_columns": null,
            "grid_auto_flow": null,
            "grid_auto_rows": null,
            "grid_column": null,
            "grid_gap": null,
            "grid_row": null,
            "grid_template_areas": null,
            "grid_template_columns": null,
            "grid_template_rows": null,
            "height": null,
            "justify_content": null,
            "justify_items": null,
            "left": null,
            "margin": null,
            "max_height": null,
            "max_width": null,
            "min_height": null,
            "min_width": null,
            "object_fit": null,
            "object_position": null,
            "order": null,
            "overflow": null,
            "overflow_x": null,
            "overflow_y": null,
            "padding": null,
            "right": null,
            "top": null,
            "visibility": null,
            "width": null
          }
        },
        "6b0715416b044b039198dfb79669a3c8": {
          "model_module": "@jupyter-widgets/controls",
          "model_name": "DescriptionStyleModel",
          "model_module_version": "1.5.0",
          "state": {
            "_model_module": "@jupyter-widgets/controls",
            "_model_module_version": "1.5.0",
            "_model_name": "DescriptionStyleModel",
            "_view_count": null,
            "_view_module": "@jupyter-widgets/base",
            "_view_module_version": "1.2.0",
            "_view_name": "StyleView",
            "description_width": ""
          }
        }
      }
    }
  },
  "cells": [
    {
      "cell_type": "markdown",
      "source": [
        "# 검색 증강 생성(RAG)"
      ],
      "metadata": {
        "id": "PHSXlsEk15lW"
      }
    },
    {
      "cell_type": "code",
      "metadata": {
        "colab": {
          "base_uri": "https://localhost:8080/",
          "height": 818
        },
        "id": "4a6f0fbd",
        "outputId": "efe82241-f727-48f4-aa90-68bff5d9db50"
      },
      "source": [
        "!pip install node2vec"
      ],
      "execution_count": 16,
      "outputs": [
        {
          "output_type": "stream",
          "name": "stdout",
          "text": [
            "Collecting node2vec\n",
            "  Downloading node2vec-0.5.0-py3-none-any.whl.metadata (849 bytes)\n",
            "Collecting gensim<5.0.0,>=4.3.0 (from node2vec)\n",
            "  Downloading gensim-4.3.3-cp312-cp312-manylinux_2_17_x86_64.manylinux2014_x86_64.whl.metadata (8.1 kB)\n",
            "Requirement already satisfied: joblib<2.0.0,>=1.4.0 in /usr/local/lib/python3.12/dist-packages (from node2vec) (1.5.2)\n",
            "Requirement already satisfied: networkx<4.0.0,>=3.1.0 in /usr/local/lib/python3.12/dist-packages (from node2vec) (3.5)\n",
            "Collecting numpy<2.0.0,>=1.24.0 (from node2vec)\n",
            "  Downloading numpy-1.26.4-cp312-cp312-manylinux_2_17_x86_64.manylinux2014_x86_64.whl.metadata (61 kB)\n",
            "\u001b[2K     \u001b[90m━━━━━━━━━━━━━━━━━━━━━━━━━━━━━━━━━━━━━━━━\u001b[0m \u001b[32m61.0/61.0 kB\u001b[0m \u001b[31m2.3 MB/s\u001b[0m eta \u001b[36m0:00:00\u001b[0m\n",
            "\u001b[?25hRequirement already satisfied: tqdm<5.0.0,>=4.66.1 in /usr/local/lib/python3.12/dist-packages (from node2vec) (4.67.1)\n",
            "Collecting scipy<1.14.0,>=1.7.0 (from gensim<5.0.0,>=4.3.0->node2vec)\n",
            "  Downloading scipy-1.13.1-cp312-cp312-manylinux_2_17_x86_64.manylinux2014_x86_64.whl.metadata (60 kB)\n",
            "\u001b[2K     \u001b[90m━━━━━━━━━━━━━━━━━━━━━━━━━━━━━━━━━━━━━━━━\u001b[0m \u001b[32m60.6/60.6 kB\u001b[0m \u001b[31m4.1 MB/s\u001b[0m eta \u001b[36m0:00:00\u001b[0m\n",
            "\u001b[?25hRequirement already satisfied: smart-open>=1.8.1 in /usr/local/lib/python3.12/dist-packages (from gensim<5.0.0,>=4.3.0->node2vec) (7.3.1)\n",
            "Requirement already satisfied: wrapt in /usr/local/lib/python3.12/dist-packages (from smart-open>=1.8.1->gensim<5.0.0,>=4.3.0->node2vec) (1.17.3)\n",
            "Downloading node2vec-0.5.0-py3-none-any.whl (7.2 kB)\n",
            "Downloading gensim-4.3.3-cp312-cp312-manylinux_2_17_x86_64.manylinux2014_x86_64.whl (26.6 MB)\n",
            "\u001b[2K   \u001b[90m━━━━━━━━━━━━━━━━━━━━━━━━━━━━━━━━━━━━━━━━\u001b[0m \u001b[32m26.6/26.6 MB\u001b[0m \u001b[31m27.5 MB/s\u001b[0m eta \u001b[36m0:00:00\u001b[0m\n",
            "\u001b[?25hDownloading numpy-1.26.4-cp312-cp312-manylinux_2_17_x86_64.manylinux2014_x86_64.whl (18.0 MB)\n",
            "\u001b[2K   \u001b[90m━━━━━━━━━━━━━━━━━━━━━━━━━━━━━━━━━━━━━━━━\u001b[0m \u001b[32m18.0/18.0 MB\u001b[0m \u001b[31m42.7 MB/s\u001b[0m eta \u001b[36m0:00:00\u001b[0m\n",
            "\u001b[?25hDownloading scipy-1.13.1-cp312-cp312-manylinux_2_17_x86_64.manylinux2014_x86_64.whl (38.2 MB)\n",
            "\u001b[2K   \u001b[90m━━━━━━━━━━━━━━━━━━━━━━━━━━━━━━━━━━━━━━━━\u001b[0m \u001b[32m38.2/38.2 MB\u001b[0m \u001b[31m12.4 MB/s\u001b[0m eta \u001b[36m0:00:00\u001b[0m\n",
            "\u001b[?25hInstalling collected packages: numpy, scipy, gensim, node2vec\n",
            "  Attempting uninstall: numpy\n",
            "    Found existing installation: numpy 2.0.2\n",
            "    Uninstalling numpy-2.0.2:\n",
            "      Successfully uninstalled numpy-2.0.2\n",
            "  Attempting uninstall: scipy\n",
            "    Found existing installation: scipy 1.16.1\n",
            "    Uninstalling scipy-1.16.1:\n",
            "      Successfully uninstalled scipy-1.16.1\n",
            "\u001b[31mERROR: pip's dependency resolver does not currently take into account all the packages that are installed. This behaviour is the source of the following dependency conflicts.\n",
            "thinc 8.3.6 requires numpy<3.0.0,>=2.0.0, but you have numpy 1.26.4 which is incompatible.\n",
            "opencv-python-headless 4.12.0.88 requires numpy<2.3.0,>=2; python_version >= \"3.9\", but you have numpy 1.26.4 which is incompatible.\n",
            "opencv-python 4.12.0.88 requires numpy<2.3.0,>=2; python_version >= \"3.9\", but you have numpy 1.26.4 which is incompatible.\n",
            "tsfresh 0.21.1 requires scipy>=1.14.0; python_version >= \"3.10\", but you have scipy 1.13.1 which is incompatible.\n",
            "opencv-contrib-python 4.12.0.88 requires numpy<2.3.0,>=2; python_version >= \"3.9\", but you have numpy 1.26.4 which is incompatible.\u001b[0m\u001b[31m\n",
            "\u001b[0mSuccessfully installed gensim-4.3.3 node2vec-0.5.0 numpy-1.26.4 scipy-1.13.1\n"
          ]
        },
        {
          "output_type": "display_data",
          "data": {
            "application/vnd.colab-display-data+json": {
              "pip_warning": {
                "packages": [
                  "numpy",
                  "scipy"
                ]
              },
              "id": "e4403f1acfe74bfab6771a4918e65bb9"
            }
          },
          "metadata": {}
        }
      ]
    },
    {
      "cell_type": "markdown",
      "source": [
        "## 그래프 기반 지식 표현"
      ],
      "metadata": {
        "id": "c8I3DF2P18gQ"
      }
    },
    {
      "cell_type": "code",
      "execution_count": 1,
      "metadata": {
        "id": "DmlYGJM213OX"
      },
      "outputs": [],
      "source": [
        "from typing import Dict, List, Tuple\n",
        "\n",
        "class KnowledgeGraph:\n",
        "    def __init__(self):\n",
        "        self.nodes: Dict[str, Dict] = {}\n",
        "        self.edges: Dict[str, List[Tuple[str, str]]] = {}\n",
        "\n",
        "    def add_node(self, node_id: str, properties: Dict):\n",
        "        self.nodes[node_id] = properties\n",
        "\n",
        "    def add_edge(self, source: str, target: str, relation: str):\n",
        "        if source not in self.edges:\n",
        "            self.edges[source] = []\n",
        "        self.edges[source].append((target, relation))\n",
        "\n",
        "    def get_neighbors(\n",
        "        self, node_id: str) -> List[Tuple[str, str]\n",
        "    ]:\n",
        "        return self.edges.get(node_id, [])\n"
      ]
    },
    {
      "cell_type": "code",
      "source": [
        "# 사용 예\n",
        "kg = KnowledgeGraph()\n",
        "# kg.add_node(\"Paris\", {\"type\": \"City\", \"country\": \"France\"})\n",
        "# kg.add_node(\"France\", {\"type\": \"Country\", \"continent\": \"Europe\"})\n",
        "# kg.add_edge(\"Paris\", \"France\", \"capital_of\")\n",
        "\n",
        "kg.add_node(\"파리\", {\"유형\": \"도시\", \"국가\": \"프랑스\"})\n",
        "kg.add_node(\"프랑스\", {\"유형\": \"국가\", \"대륙\": \"유럽\"})\n",
        "kg.add_edge(\"파리\", \"프랑스\", \"capital_of\")\n",
        "\n",
        "print(kg.get_neighbors(\"Paris\"))"
      ],
      "metadata": {
        "colab": {
          "base_uri": "https://localhost:8080/"
        },
        "id": "bbhJskbAVDEz",
        "outputId": "b4197164-774c-47a2-bdd6-d69426f72d02"
      },
      "execution_count": 2,
      "outputs": [
        {
          "output_type": "stream",
          "name": "stdout",
          "text": [
            "[]\n"
          ]
        }
      ]
    },
    {
      "cell_type": "markdown",
      "source": [
        "## 그래프 RAG 아키텍처 설계"
      ],
      "metadata": {
        "id": "Jx0UhiSC3KUW"
      }
    },
    {
      "cell_type": "code",
      "source": [
        "import networkx as nx\n",
        "from sentence_transformers import SentenceTransformer\n",
        "import torch\n",
        "\n",
        "class GraphRAG:\n",
        "    def __init__(self, kg: KnowledgeGraph, model_name: str):\n",
        "        self.kg = kg\n",
        "        self.model = SentenceTransformer(model_name)\n",
        "        self.graph = self.build_networkx_graph()\n",
        "        self.node_embeddings = self.compute_node_embeddings()\n",
        "\n",
        "    def build_networkx_graph(self):\n",
        "        G = nx.DiGraph()\n",
        "        for node_id, properties in self.kg.nodes.items():\n",
        "            G.add_node(node_id, **properties) # Unpack the properties dictionary\n",
        "        for source, edges in self.kg.edges.items():\n",
        "            for target, relation in edges:\n",
        "                G.add_edge(source, target, relation=relation)\n",
        "        return G\n",
        "\n",
        "    def compute_node_embeddings(self):\n",
        "        embeddings = {}\n",
        "        for node_id, properties in self.kg.nodes.items():\n",
        "            text = f\"{node_id} {' '.join(properties.values())}\"\n",
        "            embedding = self.model.encode(text)\n",
        "            embeddings[node_id] = embedding\n",
        "        return embeddings\n",
        "\n",
        "    def retrieve(self, query: str, k: int = 5) -> List[str]:\n",
        "        query_embedding = self.model.encode(query)\n",
        "        similarities = {\n",
        "            node_id: torch.cosine_similarity(\n",
        "                torch.tensor(query_embedding),\n",
        "                torch.tensor(emb), dim=0\n",
        "            )\n",
        "            for node_id, emb in self.node_embeddings.items()}\n",
        "        return sorted(\n",
        "            similarities, key=similarities.get, reverse=True\n",
        "        )[:k]\n"
      ],
      "metadata": {
        "id": "kBD-vd-53Iho"
      },
      "execution_count": 3,
      "outputs": []
    },
    {
      "cell_type": "code",
      "source": [
        "graph_rag = GraphRAG(kg, \"all-MiniLM-L6-v2\")\n",
        "retrieved_nodes = graph_rag.retrieve(\"프랑스의 수도는 어디인가?\")\n",
        "print(\"검색된 노드:\", retrieved_nodes)"
      ],
      "metadata": {
        "colab": {
          "base_uri": "https://localhost:8080/"
        },
        "id": "1IrlEhJc5kk6",
        "outputId": "fc469a0f-4aae-4b4e-df0c-966cfb01a42f"
      },
      "execution_count": 4,
      "outputs": [
        {
          "output_type": "stream",
          "name": "stderr",
          "text": [
            "/usr/local/lib/python3.12/dist-packages/huggingface_hub/utils/_auth.py:94: UserWarning: \n",
            "The secret `HF_TOKEN` does not exist in your Colab secrets.\n",
            "To authenticate with the Hugging Face Hub, create a token in your settings tab (https://huggingface.co/settings/tokens), set it as secret in your Google Colab and restart your session.\n",
            "You will be able to reuse this secret in all of your notebooks.\n",
            "Please note that authentication is recommended but still optional to access public models or datasets.\n",
            "  warnings.warn(\n"
          ]
        },
        {
          "output_type": "stream",
          "name": "stdout",
          "text": [
            "검색된 노드: ['파리', '프랑스']\n"
          ]
        }
      ]
    },
    {
      "cell_type": "markdown",
      "source": [
        "## 그래프 임베딩"
      ],
      "metadata": {
        "id": "H3JbyQ7lTMiw"
      }
    },
    {
      "cell_type": "code",
      "source": [
        "from node2vec import Node2Vec\n",
        "\n",
        "class AdvancedGraphRAG(GraphRAG):\n",
        "    def __init__(self, kg: KnowledgeGraph, model_name: str):\n",
        "        super().__init__(kg, model_name)\n",
        "        self.node2vec_embeddings = self.compute_node2vec_embeddings()\n",
        "\n",
        "    def compute_node2vec_embeddings(self):\n",
        "        # Change dimensions to match the text embedding dimension\n",
        "        node2vec = Node2Vec(\n",
        "            self.graph, dimensions=384, walk_length=30, num_walks=200, workers=4\n",
        "        )\n",
        "        model = node2vec.fit(window=10, min_count=1)\n",
        "        return {node: model.wv[node]\n",
        "            for node in self.graph.nodes()\n",
        "        }\n",
        "\n",
        "    def retrieve(self, query: str, k: int = 5) -> List[str]:\n",
        "        query_embedding = self.model.encode(query)\n",
        "        combined_similarities = {}\n",
        "\n",
        "        for node_id in self.graph.nodes():\n",
        "            text_sim = torch.cosine_similarity(\n",
        "                torch.tensor(query_embedding),\n",
        "                torch.tensor(self.node_embeddings[node_id]),\n",
        "                dim=0\n",
        "            )\n",
        "            # Now dimensions should match after changing node2vec dimensions\n",
        "            graph_sim = torch.cosine_similarity(\n",
        "                torch.tensor(query_embedding),\n",
        "                torch.tensor(self.node2vec_embeddings[node_id]),\n",
        "                dim=0\n",
        "            )\n",
        "            combined_similarities[node_id] = 0.5 * text_sim + 0.5 * graph_sim\n",
        "\n",
        "        return sorted(\n",
        "            combined_similarities, key=combined_similarities.get, reverse=True\n",
        "        )[:k]"
      ],
      "metadata": {
        "id": "UTAyGOqDTOdq"
      },
      "execution_count": 11,
      "outputs": []
    },
    {
      "cell_type": "code",
      "source": [
        "# 사용 예\n",
        "advanced_graph_rag = AdvancedGraphRAG(kg, \"all-MiniLM-L6-v2\")\n",
        "retrieved_nodes = advanced_graph_rag.retrieve(\"프랑스의 수도는 어디인가?\")\n",
        "print(\"검색된 노드:\", retrieved_nodes)\n"
      ],
      "metadata": {
        "colab": {
          "base_uri": "https://localhost:8080/",
          "height": 67,
          "referenced_widgets": [
            "c1cc30fed6e14b34b24cabe1d9081670",
            "60b7d9c1d0ae45f4be697316650aa7a3",
            "bd8b514aa6a041168de3d28a77c35f8a",
            "343fef8a0e844e2a92a1071acf1e1461",
            "afec23477feb40148bc581d76c03cda9",
            "2fc74ecd569c4fd297bc078eef46c41f",
            "a4af2b57f07549218b9e11e4b60281f4",
            "f46c357b037b46c19756dba7bf0a2d25",
            "61449c7623074d308c3e8e421e5f99fc",
            "162bd7db9c024d7281a7ffbb6d2bc601",
            "3dee922bc1d841499f44876463414303"
          ]
        },
        "id": "K3BlwgNmVYXz",
        "outputId": "1fcce9fe-46e9-42f1-a25c-c6e895ebb837"
      },
      "execution_count": 12,
      "outputs": [
        {
          "output_type": "display_data",
          "data": {
            "text/plain": [
              "Computing transition probabilities:   0%|          | 0/2 [00:00<?, ?it/s]"
            ],
            "application/vnd.jupyter.widget-view+json": {
              "version_major": 2,
              "version_minor": 0,
              "model_id": "c1cc30fed6e14b34b24cabe1d9081670"
            }
          },
          "metadata": {}
        },
        {
          "output_type": "stream",
          "name": "stdout",
          "text": [
            "검색된 노드: ['파리', '프랑스']\n"
          ]
        }
      ]
    },
    {
      "cell_type": "markdown",
      "source": [
        "## 쿼리 확장"
      ],
      "metadata": {
        "id": "KsMVfhtEazKt"
      }
    },
    {
      "cell_type": "code",
      "source": [
        "import random\n",
        "\n",
        "class QueryExpansionGraphRAG(AdvancedGraphRAG):\n",
        "    def expand_query(self, query: str, num_expansions: int = 2) -> List[str]:\n",
        "        initial_nodes = super().retrieve(query, k=3)\n",
        "        expanded_queries = [query]\n",
        "        for node in initial_nodes:\n",
        "            neighbors = list(self.graph.neighbors(node))\n",
        "            if neighbors:\n",
        "                random_neighbor = random.choice(neighbors)\n",
        "                expanded_query = (\n",
        "                    f\"{query}\"\n",
        "                    f\"{self.graph.nodes[random_neighbor].get('type', '')}\"\n",
        "                    f\"{random_neighbor}\"\n",
        "                )\n",
        "                expanded_queries.append(expanded_query)\n",
        "                if len(expanded_queries) >= num_expansions + 1:\n",
        "                    break\n",
        "        return expanded_queries\n",
        "\n",
        "    def retrieve(self, query: str, k: int = 5) -> List[str]:\n",
        "        expanded_queries = self.expand_query(query)\n",
        "        all_retrieved = []\n",
        "        for q in expanded_queries:\n",
        "            all_retrieved.extend(super().retrieve(q, k))\n",
        "        return list(dict.fromkeys(all_retrieved))[:k]\n"
      ],
      "metadata": {
        "id": "88nPfVgXa0oF"
      },
      "execution_count": 14,
      "outputs": []
    },
    {
      "cell_type": "code",
      "source": [
        "# 사용 예\n",
        "query_expansion_rag = QueryExpansionGraphRAG(kg, \"all-MiniLM-L6-v2\")\n",
        "retrieved_nodes = query_expansion_rag.retrieve(\"프랑스의 수도는 어디인가?\")\n",
        "print(\"검색된 노드:\", retrieved_nodes)\n"
      ],
      "metadata": {
        "colab": {
          "base_uri": "https://localhost:8080/",
          "height": 67,
          "referenced_widgets": [
            "0764d0b069c041c686ed3937ee92d1ed",
            "b872c634e30d49f6aacf2b24fbf04f37",
            "43f1e3b4e456498a8a5c659fdd744384",
            "f019cd1e86a74b2597c66437cdaee121",
            "f88862b998084c1787b31a17fd887982",
            "6e4a2c782e724dea9d51275ae7e40220",
            "4cb60df1a6534ece852d3a367946b394",
            "538ad1c42ec443a28dea96e361b5fd78",
            "31d0220470de452e93fee32683e08090",
            "da956272e8984838bd2eeab2db44ffea",
            "87551e3fc0704209a2d8fe81c22e30ef"
          ]
        },
        "id": "yv242UM8a261",
        "outputId": "14386bbe-a415-4393-83ce-b151f1e2d893"
      },
      "execution_count": 15,
      "outputs": [
        {
          "output_type": "display_data",
          "data": {
            "text/plain": [
              "Computing transition probabilities:   0%|          | 0/2 [00:00<?, ?it/s]"
            ],
            "application/vnd.jupyter.widget-view+json": {
              "version_major": 2,
              "version_minor": 0,
              "model_id": "0764d0b069c041c686ed3937ee92d1ed"
            }
          },
          "metadata": {}
        },
        {
          "output_type": "stream",
          "name": "stdout",
          "text": [
            "검색된 노드: ['파리', '프랑스']\n"
          ]
        }
      ]
    },
    {
      "cell_type": "code",
      "source": [
        "from transformers import AutoModelForCausalLM, AutoTokenizer\n",
        "\n",
        "class GenerativeGraphRAG(QueryExpansionGraphRAG):\n",
        "    def __init__(self, kg: KnowledgeGraph, retriever_model: str, generator_model: str):\n",
        "        super().__init__(kg, retriever_model)\n",
        "        self.generator = AutoModelForCausalLM.from_pretrained(generator_model)\n",
        "        self.generator_tokenizer = AutoTokenizer.from_pretrained(generator_model)\n",
        "\n",
        "    def generate_response(self, query: str, max_length: int = 300) -> str: # Increased max_length\n",
        "        retrieved_nodes = self.retrieve(query)\n",
        "        context = self.build_graph_context(retrieved_nodes)\n",
        "        # Ensure prompt is in Korean\n",
        "        prompt = f\"그래프 문맥:\\n{context}\\n\\n질문: {query}\\n답변:\"\n",
        "        inputs = self.generator_tokenizer(prompt, return_tensors=\"pt\")\n",
        "        # Explicitly pass input_ids and attention_mask\n",
        "        outputs = self.generator.generate(\n",
        "            input_ids=inputs[\"input_ids\"],\n",
        "            attention_mask=inputs[\"attention_mask\"] if \"attention_mask\" in inputs else None,\n",
        "            max_length=max_length\n",
        "        )\n",
        "        return self.generator_tokenizer.decode(outputs[0], skip_special_tokens=True)\n",
        "\n",
        "    def build_graph_context(self, nodes: List[str]) -> str:\n",
        "        context = []\n",
        "        for node in nodes:\n",
        "            context.append(f\"노드: {node}\")\n",
        "            context.append(f\"속성: {self.graph.nodes[node]}\")\n",
        "            for neighbor, edge_data in self.graph[node].items():\n",
        "                context.append(\n",
        "                    f\"  '{neighbor}'와 '{edge_data['relation']}' 관계로 연결됨\"\n",
        "                )\n",
        "        return \"\\n\".join(context)"
      ],
      "metadata": {
        "id": "mCZcXiKvbKyl"
      },
      "execution_count": 44,
      "outputs": []
    },
    {
      "cell_type": "code",
      "source": [
        "# 사용 예\n",
        "generative_graph_rag = GenerativeGraphRAG(kg, \"all-MiniLM-L6-v2\", \"gpt2-medium\")\n",
        "response = generative_graph_rag.generate_response(\"프랑스의 수도는 어디인가?\")\n",
        "print(\"생성된 응답:\", response)\n"
      ],
      "metadata": {
        "colab": {
          "base_uri": "https://localhost:8080/",
          "height": 288,
          "referenced_widgets": [
            "9c1633accf9944b499bef081823e1289",
            "2fc4f88898834744ad5d50a5a9431664",
            "269c8c81b10a484fa5df528f7a5acce4",
            "ac80aa7115924c24af3f8ba0e297b930",
            "f0560538c19148cfa400496590fff9e2",
            "1e198ca1f87842eeb8ce84cc299a0c23",
            "022387eca9a9464b996c3b89e1235400",
            "bb6afc5f54fd4e27ad5d8cd809474b24",
            "44735e4a31994a33ac1d5c2f20837c1b",
            "4f51e89a32a24dd4ae16823c2056582d",
            "41f44edfaed44690939c19bad3fb9d9f"
          ]
        },
        "id": "e96uOI01bL6F",
        "outputId": "6bc0ec52-61e6-4e1b-d8b0-40d234d2a983"
      },
      "execution_count": 45,
      "outputs": [
        {
          "output_type": "display_data",
          "data": {
            "text/plain": [
              "Computing transition probabilities:   0%|          | 0/3 [00:00<?, ?it/s]"
            ],
            "application/vnd.jupyter.widget-view+json": {
              "version_major": 2,
              "version_minor": 0,
              "model_id": "9c1633accf9944b499bef081823e1289"
            }
          },
          "metadata": {}
        },
        {
          "output_type": "stream",
          "name": "stderr",
          "text": [
            "Setting `pad_token_id` to `eos_token_id`:50256 for open-end generation.\n"
          ]
        },
        {
          "output_type": "stream",
          "name": "stdout",
          "text": [
            "생성된 응답: 그래프 문맥:\n",
            "노드: User 12345\n",
            "속성: {'type': 'User', 'interests': '아이폰'}\n",
            "노드: 맥북\n",
            "속성: {'type': '노트북', 'brand': '애플'}\n",
            "노드: 아이폰\n",
            "속성: {'type': '스마트폰', 'brand': '애플'}\n",
            "  '맥북'와 '같은 브랜드' 관계로 연결됨\n",
            "\n",
            "질문: 프랑스의 수도는 어디인가?\n",
            "답변: 아이폰\n",
            "속성: {'type': '스마트폰', 'brand': '애�\n"
          ]
        }
      ]
    },
    {
      "cell_type": "markdown",
      "source": [
        "## 그래프 RAG 애플리케이션과 사용 사례"
      ],
      "metadata": {
        "id": "8dZ9ebzknTmL"
      }
    },
    {
      "cell_type": "code",
      "source": [
        "class RecommendationGraphRAG(GenerativeGraphRAG):\n",
        "    def get_recommendations(self, user_id: str, num_recommendations: int = 5) -> List[str]:\n",
        "        user_node = self.retrieve(f\"User {user_id}\", k=1)[0]\n",
        "        user_interests = self.graph.nodes[user_node].get('interests', [])\n",
        "\n",
        "        potential_recommendations = set()\n",
        "        for interest in user_interests:\n",
        "            related_items = self.retrieve(interest, k=3)\n",
        "            potential_recommendations.update(related_items)\n",
        "\n",
        "        recommendations = list(\n",
        "            potential_recommendations - set(user_interests)\n",
        "        )[:num_recommendations]\n",
        "        return recommendations\n",
        "\n",
        "    def explain_recommendation(self, user_id: str, item_id: str) -> str:\n",
        "        query = f\"사용자 {user_id}가 {item_id}에 관심을 갖는 이유는?\"\n",
        "        return self.generate_response(query)\n"
      ],
      "metadata": {
        "id": "aU3a1p8SnXdz"
      },
      "execution_count": 46,
      "outputs": []
    },
    {
      "cell_type": "code",
      "source": [
        "# 사용 예\n",
        "kg = KnowledgeGraph()\n",
        "kg.add_node(\"User 12345\", {\"type\": \"User\", \"interests\": \"아이폰\"})\n",
        "kg.add_node(\"아이폰\", {\"type\": \"스마트폰\", \"brand\": \"애플\"})\n",
        "kg.add_node(\"맥북\", {\"type\": \"노트북\", \"brand\": \"애플\"})\n",
        "kg.add_edge(\"아이폰\", \"맥북\", \"같은 브랜드\")\n",
        "\n",
        "recommendation_rag = RecommendationGraphRAG(\n",
        "    kg, \"all-MiniLM-L6-v2\", \"gpt2-medium\"\n",
        ")\n",
        "user_id = \"12345\"\n",
        "recommendations = recommendation_rag.get_recommendations(user_id)\n",
        "print(f\"사용자 {user_id}를 위한 추천:\", recommendations)\n",
        "\n",
        "for item in recommendations[:2]:\n",
        "    explanation = recommendation_rag.explain_recommendation(user_id, item)\n",
        "    print(f\"{item} 추천에 대한 설명:\", explanation)\n"
      ],
      "metadata": {
        "colab": {
          "base_uri": "https://localhost:8080/",
          "height": 508,
          "referenced_widgets": [
            "8bc257890b504e67b7929b2328f5db6f",
            "2b301a25f3e645d995dfda592d126ef3",
            "59976c974fdb4f1b9f4f6fc7b7bba77c",
            "d942b67884834fb5b8f0faa5e1226923",
            "f451d0d7b2134bca9bbd07adaa7b747e",
            "8afc82c99a15410cbe6387d7e2eb0e08",
            "5848082f07e84c4196bb538cc839a943",
            "9651358657df4fbcaa813bcc91d7b6f6",
            "579e06fe7fd74d328642592c4a19cb41",
            "f0041594e0074c9eaa4f279847896d0e",
            "9d5df51346584eaf873debff7ae8cb74"
          ]
        },
        "id": "83TNXNvMnat-",
        "outputId": "8e1d763f-2fe2-4a49-c309-923a03927dcf"
      },
      "execution_count": 47,
      "outputs": [
        {
          "output_type": "display_data",
          "data": {
            "text/plain": [
              "Computing transition probabilities:   0%|          | 0/3 [00:00<?, ?it/s]"
            ],
            "application/vnd.jupyter.widget-view+json": {
              "version_major": 2,
              "version_minor": 0,
              "model_id": "8bc257890b504e67b7929b2328f5db6f"
            }
          },
          "metadata": {}
        },
        {
          "output_type": "stream",
          "name": "stderr",
          "text": [
            "Setting `pad_token_id` to `eos_token_id`:50256 for open-end generation.\n"
          ]
        },
        {
          "output_type": "stream",
          "name": "stdout",
          "text": [
            "사용자 12345를 위한 추천: ['아이폰', 'User 12345', '맥북']\n"
          ]
        },
        {
          "output_type": "stream",
          "name": "stderr",
          "text": [
            "Setting `pad_token_id` to `eos_token_id`:50256 for open-end generation.\n"
          ]
        },
        {
          "output_type": "stream",
          "name": "stdout",
          "text": [
            "아이폰 추천에 대한 설명: 그래프 문맥:\n",
            "노드: User 12345\n",
            "속성: {'type': 'User', 'interests': '아이폰'}\n",
            "노드: 맥북\n",
            "속성: {'type': '노트북', 'brand': '애플'}\n",
            "노드: 아이폰\n",
            "속성: {'type': '스마트폰', 'brand': '애플'}\n",
            "  '맥북'와 '같은 브랜드' 관계로 연결됨\n",
            "\n",
            "질문: 사용자 12345가 아이폰에 관심을 갖는 이유는?\n",
            "답변: 아이폰에 관심을 갖�\n",
            "User 12345 추천에 대한 설명: 그래프 문맥:\n",
            "노드: User 12345\n",
            "속성: {'type': 'User', 'interests': '아이폰'}\n",
            "노드: 맥북\n",
            "속성: {'type': '노트북', 'brand': '애플'}\n",
            "노드: 아이폰\n",
            "속성: {'type': '스마트폰', 'brand': '애플'}\n",
            "  '맥북'와 '같은 브랜드' 관계로 연결됨\n",
            "\n",
            "질문: 사용자 12345가 User 12345에 관심을 갖는 이유는?\n",
            "답변: 아이폰 아이폰 아이폰 아이�\n"
          ]
        }
      ]
    },
    {
      "cell_type": "markdown",
      "source": [
        "## 부분 그래프 샘플링"
      ],
      "metadata": {
        "id": "C0S4dsu0rZq5"
      }
    },
    {
      "cell_type": "code",
      "source": [
        "import networkx as nx\n",
        "\n",
        "class ScalableGraphRAG(GenerativeGraphRAG):\n",
        "    def __init__(\n",
        "        self, kg: KnowledgeGraph, retriever_model: str,\n",
        "        generator_model: str, max_subgraph_size: int = 1000\n",
        "    ):\n",
        "        super().__init__(kg, retriever_model, generator_model)\n",
        "        self.max_subgraph_size = max_subgraph_size\n",
        "\n",
        "    def retrieve(self, query: str, k: int = 5) -> List[str]:\n",
        "        initial_nodes = super().retrieve(query, k=k)\n",
        "        subgraph = self.sample_subgraph(initial_nodes)\n",
        "        return self.rank_nodes_in_subgraph(subgraph, query)[:k]\n",
        "\n",
        "    def sample_subgraph(self, seed_nodes: List[str]) -> nx.Graph:\n",
        "        subgraph = nx.Graph()\n",
        "        frontier = set(seed_nodes)\n",
        "        while len(subgraph) < self.max_subgraph_size and frontier:\n",
        "            node = frontier.pop()\n",
        "            if node not in subgraph:\n",
        "                subgraph.add_node(node, **self.graph.nodes[node])\n",
        "                neighbors = list(self.graph.neighbors(node))\n",
        "                for neighbor in neighbors:\n",
        "                    if len(subgraph) < self.max_subgraph_size:\n",
        "                        subgraph.add_edge(\n",
        "                            node, neighbor,\n",
        "                            **self.graph[node][neighbor]\n",
        "                        )\n",
        "                        frontier.add(neighbor)\n",
        "                    else:\n",
        "                        break\n",
        "        return subgraph\n",
        "\n",
        "    def rank_nodes_in_subgraph(self, subgraph: nx.Graph, query: str) -> List[str]:\n",
        "        query_embedding = self.model.encode(query)\n",
        "        node_scores = {}\n",
        "        for node in subgraph.nodes():\n",
        "            node_embedding = self.node_embeddings[node]\n",
        "            score = torch.cosine_similarity(\n",
        "                torch.tensor(query_embedding),\n",
        "                torch.tensor(node_embedding), dim=0\n",
        "            )\n",
        "            node_scores[node] = score\n",
        "        return sorted(node_scores, key=node_scores.get, reverse=True)\n"
      ],
      "metadata": {
        "id": "8MIHl8AHre3r"
      },
      "execution_count": 54,
      "outputs": []
    },
    {
      "cell_type": "code",
      "source": [
        "# 사용 예\n",
        "kg = KnowledgeGraph()\n",
        "kg.add_node(\"파리\", {\"유형\": \"도시\", \"국가\": \"프랑스\"})\n",
        "kg.add_node(\"프랑스\", {\"유형\": \"국가\", \"대륙\": \"유럽\"})\n",
        "kg.add_edge(\"파리\", \"프랑스\", \"capital_of\")\n",
        "\n",
        "scalable_graph_rag = ScalableGraphRAG(kg, \"all-MiniLM-L6-v2\", \"gpt2-medium\")\n",
        "retrieved_nodes = scalable_graph_rag.retrieve(\"프랑스의 수도는 어디인가?\")\n",
        "print(\"검색된 노드:\", retrieved_nodes)\n"
      ],
      "metadata": {
        "colab": {
          "base_uri": "https://localhost:8080/",
          "height": 67,
          "referenced_widgets": [
            "e5d1120937184ed0a005ba6ff954cf1c",
            "4d5b3183ceab49c887105dc18a00e011",
            "6ce4c24aff7946999c037dc133a26b47",
            "a0e0475c85d14e6db90c931bdf6d0ce4",
            "0e8c4996e9ae4fce99aae4e6f79941a1",
            "73e3195af7174faa9862d0e6de9dae54",
            "9c57f5f79ecf4f54850864cbaf8e5a37",
            "0b1dd51fcde0402aab345ee1e97b88a7",
            "1d89a147ee654c49b3255f59431c31b7",
            "d040529f59664482b8588febdce1bfe0",
            "6b0715416b044b039198dfb79669a3c8"
          ]
        },
        "id": "sXB4VdAmriu2",
        "outputId": "aec2d007-6022-4dbc-a8c0-de851344274d"
      },
      "execution_count": 55,
      "outputs": [
        {
          "output_type": "display_data",
          "data": {
            "text/plain": [
              "Computing transition probabilities:   0%|          | 0/2 [00:00<?, ?it/s]"
            ],
            "application/vnd.jupyter.widget-view+json": {
              "version_major": 2,
              "version_minor": 0,
              "model_id": "e5d1120937184ed0a005ba6ff954cf1c"
            }
          },
          "metadata": {}
        },
        {
          "output_type": "stream",
          "name": "stdout",
          "text": [
            "검색된 노드: ['파리', '프랑스']\n"
          ]
        }
      ]
    }
  ]
}