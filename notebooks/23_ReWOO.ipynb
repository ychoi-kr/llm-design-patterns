{
  "nbformat": 4,
  "nbformat_minor": 0,
  "metadata": {
    "colab": {
      "provenance": []
    },
    "kernelspec": {
      "name": "python3",
      "display_name": "Python 3"
    },
    "language_info": {
      "name": "python"
    }
  },
  "cells": [
    {
      "cell_type": "markdown",
      "source": [
        "# 23. 무관찰 추리 (ReWoo)"
      ],
      "metadata": {
        "id": "lo3JSuJRNfq5"
      }
    },
    {
      "cell_type": "code",
      "execution_count": 1,
      "metadata": {
        "colab": {
          "base_uri": "https://localhost:8080/"
        },
        "id": "_3aYKzRUNeKA",
        "outputId": "e60d711e-204e-4436-d49d-e733e619b0e7"
      },
      "outputs": [
        {
          "output_type": "stream",
          "name": "stdout",
          "text": [
            "Collecting langgraph\n",
            "  Downloading langgraph-0.6.7-py3-none-any.whl.metadata (6.8 kB)\n",
            "Collecting langchain_community\n",
            "  Downloading langchain_community-0.3.29-py3-none-any.whl.metadata (2.9 kB)\n",
            "Collecting langchain_openai\n",
            "  Downloading langchain_openai-0.3.33-py3-none-any.whl.metadata (2.4 kB)\n",
            "Collecting tavily-python\n",
            "  Downloading tavily_python-0.7.12-py3-none-any.whl.metadata (7.5 kB)\n",
            "Requirement already satisfied: langchain-core>=0.1 in /usr/local/lib/python3.12/dist-packages (from langgraph) (0.3.75)\n",
            "Collecting langgraph-checkpoint<3.0.0,>=2.1.0 (from langgraph)\n",
            "  Downloading langgraph_checkpoint-2.1.1-py3-none-any.whl.metadata (4.2 kB)\n",
            "Collecting langgraph-prebuilt<0.7.0,>=0.6.0 (from langgraph)\n",
            "  Downloading langgraph_prebuilt-0.6.4-py3-none-any.whl.metadata (4.5 kB)\n",
            "Collecting langgraph-sdk<0.3.0,>=0.2.2 (from langgraph)\n",
            "  Downloading langgraph_sdk-0.2.8-py3-none-any.whl.metadata (1.5 kB)\n",
            "Requirement already satisfied: pydantic>=2.7.4 in /usr/local/lib/python3.12/dist-packages (from langgraph) (2.11.7)\n",
            "Requirement already satisfied: xxhash>=3.5.0 in /usr/local/lib/python3.12/dist-packages (from langgraph) (3.5.0)\n",
            "Requirement already satisfied: langchain<2.0.0,>=0.3.27 in /usr/local/lib/python3.12/dist-packages (from langchain_community) (0.3.27)\n",
            "Requirement already satisfied: SQLAlchemy<3,>=1.4 in /usr/local/lib/python3.12/dist-packages (from langchain_community) (2.0.43)\n",
            "Collecting requests<3,>=2.32.5 (from langchain_community)\n",
            "  Downloading requests-2.32.5-py3-none-any.whl.metadata (4.9 kB)\n",
            "Requirement already satisfied: PyYAML>=5.3 in /usr/local/lib/python3.12/dist-packages (from langchain_community) (6.0.2)\n",
            "Requirement already satisfied: aiohttp<4.0.0,>=3.8.3 in /usr/local/lib/python3.12/dist-packages (from langchain_community) (3.12.15)\n",
            "Requirement already satisfied: tenacity!=8.4.0,<10,>=8.1.0 in /usr/local/lib/python3.12/dist-packages (from langchain_community) (8.5.0)\n",
            "Collecting dataclasses-json<0.7,>=0.6.7 (from langchain_community)\n",
            "  Downloading dataclasses_json-0.6.7-py3-none-any.whl.metadata (25 kB)\n",
            "Requirement already satisfied: pydantic-settings<3.0.0,>=2.10.1 in /usr/local/lib/python3.12/dist-packages (from langchain_community) (2.10.1)\n",
            "Requirement already satisfied: langsmith>=0.1.125 in /usr/local/lib/python3.12/dist-packages (from langchain_community) (0.4.27)\n",
            "Requirement already satisfied: httpx-sse<1.0.0,>=0.4.0 in /usr/local/lib/python3.12/dist-packages (from langchain_community) (0.4.1)\n",
            "Requirement already satisfied: numpy>=1.26.2 in /usr/local/lib/python3.12/dist-packages (from langchain_community) (2.0.2)\n",
            "Collecting langchain-core>=0.1 (from langgraph)\n",
            "  Downloading langchain_core-0.3.76-py3-none-any.whl.metadata (3.7 kB)\n",
            "Requirement already satisfied: openai<2.0.0,>=1.104.2 in /usr/local/lib/python3.12/dist-packages (from langchain_openai) (1.107.0)\n",
            "Requirement already satisfied: tiktoken<1,>=0.7 in /usr/local/lib/python3.12/dist-packages (from langchain_openai) (0.11.0)\n",
            "Requirement already satisfied: httpx in /usr/local/lib/python3.12/dist-packages (from tavily-python) (0.28.1)\n",
            "Requirement already satisfied: aiohappyeyeballs>=2.5.0 in /usr/local/lib/python3.12/dist-packages (from aiohttp<4.0.0,>=3.8.3->langchain_community) (2.6.1)\n",
            "Requirement already satisfied: aiosignal>=1.4.0 in /usr/local/lib/python3.12/dist-packages (from aiohttp<4.0.0,>=3.8.3->langchain_community) (1.4.0)\n",
            "Requirement already satisfied: attrs>=17.3.0 in /usr/local/lib/python3.12/dist-packages (from aiohttp<4.0.0,>=3.8.3->langchain_community) (25.3.0)\n",
            "Requirement already satisfied: frozenlist>=1.1.1 in /usr/local/lib/python3.12/dist-packages (from aiohttp<4.0.0,>=3.8.3->langchain_community) (1.7.0)\n",
            "Requirement already satisfied: multidict<7.0,>=4.5 in /usr/local/lib/python3.12/dist-packages (from aiohttp<4.0.0,>=3.8.3->langchain_community) (6.6.4)\n",
            "Requirement already satisfied: propcache>=0.2.0 in /usr/local/lib/python3.12/dist-packages (from aiohttp<4.0.0,>=3.8.3->langchain_community) (0.3.2)\n",
            "Requirement already satisfied: yarl<2.0,>=1.17.0 in /usr/local/lib/python3.12/dist-packages (from aiohttp<4.0.0,>=3.8.3->langchain_community) (1.20.1)\n",
            "Collecting marshmallow<4.0.0,>=3.18.0 (from dataclasses-json<0.7,>=0.6.7->langchain_community)\n",
            "  Downloading marshmallow-3.26.1-py3-none-any.whl.metadata (7.3 kB)\n",
            "Collecting typing-inspect<1,>=0.4.0 (from dataclasses-json<0.7,>=0.6.7->langchain_community)\n",
            "  Downloading typing_inspect-0.9.0-py3-none-any.whl.metadata (1.5 kB)\n",
            "Requirement already satisfied: langchain-text-splitters<1.0.0,>=0.3.9 in /usr/local/lib/python3.12/dist-packages (from langchain<2.0.0,>=0.3.27->langchain_community) (0.3.11)\n",
            "Requirement already satisfied: jsonpatch<2.0,>=1.33 in /usr/local/lib/python3.12/dist-packages (from langchain-core>=0.1->langgraph) (1.33)\n",
            "Requirement already satisfied: typing-extensions>=4.7 in /usr/local/lib/python3.12/dist-packages (from langchain-core>=0.1->langgraph) (4.15.0)\n",
            "Requirement already satisfied: packaging>=23.2 in /usr/local/lib/python3.12/dist-packages (from langchain-core>=0.1->langgraph) (25.0)\n",
            "Collecting ormsgpack>=1.10.0 (from langgraph-checkpoint<3.0.0,>=2.1.0->langgraph)\n",
            "  Downloading ormsgpack-1.10.0-cp312-cp312-manylinux_2_17_x86_64.manylinux2014_x86_64.whl.metadata (43 kB)\n",
            "\u001b[2K     \u001b[90m━━━━━━━━━━━━━━━━━━━━━━━━━━━━━━━━━━━━━━━━\u001b[0m \u001b[32m43.7/43.7 kB\u001b[0m \u001b[31m3.4 MB/s\u001b[0m eta \u001b[36m0:00:00\u001b[0m\n",
            "\u001b[?25hRequirement already satisfied: orjson>=3.10.1 in /usr/local/lib/python3.12/dist-packages (from langgraph-sdk<0.3.0,>=0.2.2->langgraph) (3.11.3)\n",
            "Requirement already satisfied: anyio in /usr/local/lib/python3.12/dist-packages (from httpx->tavily-python) (4.10.0)\n",
            "Requirement already satisfied: certifi in /usr/local/lib/python3.12/dist-packages (from httpx->tavily-python) (2025.8.3)\n",
            "Requirement already satisfied: httpcore==1.* in /usr/local/lib/python3.12/dist-packages (from httpx->tavily-python) (1.0.9)\n",
            "Requirement already satisfied: idna in /usr/local/lib/python3.12/dist-packages (from httpx->tavily-python) (3.10)\n",
            "Requirement already satisfied: h11>=0.16 in /usr/local/lib/python3.12/dist-packages (from httpcore==1.*->httpx->tavily-python) (0.16.0)\n",
            "Requirement already satisfied: requests-toolbelt>=1.0.0 in /usr/local/lib/python3.12/dist-packages (from langsmith>=0.1.125->langchain_community) (1.0.0)\n",
            "Requirement already satisfied: zstandard>=0.23.0 in /usr/local/lib/python3.12/dist-packages (from langsmith>=0.1.125->langchain_community) (0.24.0)\n",
            "Requirement already satisfied: distro<2,>=1.7.0 in /usr/local/lib/python3.12/dist-packages (from openai<2.0.0,>=1.104.2->langchain_openai) (1.9.0)\n",
            "Requirement already satisfied: jiter<1,>=0.4.0 in /usr/local/lib/python3.12/dist-packages (from openai<2.0.0,>=1.104.2->langchain_openai) (0.10.0)\n",
            "Requirement already satisfied: sniffio in /usr/local/lib/python3.12/dist-packages (from openai<2.0.0,>=1.104.2->langchain_openai) (1.3.1)\n",
            "Requirement already satisfied: tqdm>4 in /usr/local/lib/python3.12/dist-packages (from openai<2.0.0,>=1.104.2->langchain_openai) (4.67.1)\n",
            "Requirement already satisfied: annotated-types>=0.6.0 in /usr/local/lib/python3.12/dist-packages (from pydantic>=2.7.4->langgraph) (0.7.0)\n",
            "Requirement already satisfied: pydantic-core==2.33.2 in /usr/local/lib/python3.12/dist-packages (from pydantic>=2.7.4->langgraph) (2.33.2)\n",
            "Requirement already satisfied: typing-inspection>=0.4.0 in /usr/local/lib/python3.12/dist-packages (from pydantic>=2.7.4->langgraph) (0.4.1)\n",
            "Requirement already satisfied: python-dotenv>=0.21.0 in /usr/local/lib/python3.12/dist-packages (from pydantic-settings<3.0.0,>=2.10.1->langchain_community) (1.1.1)\n",
            "Requirement already satisfied: charset_normalizer<4,>=2 in /usr/local/lib/python3.12/dist-packages (from requests<3,>=2.32.5->langchain_community) (3.4.3)\n",
            "Requirement already satisfied: urllib3<3,>=1.21.1 in /usr/local/lib/python3.12/dist-packages (from requests<3,>=2.32.5->langchain_community) (2.5.0)\n",
            "Requirement already satisfied: greenlet>=1 in /usr/local/lib/python3.12/dist-packages (from SQLAlchemy<3,>=1.4->langchain_community) (3.2.4)\n",
            "Requirement already satisfied: regex>=2022.1.18 in /usr/local/lib/python3.12/dist-packages (from tiktoken<1,>=0.7->langchain_openai) (2024.11.6)\n",
            "Requirement already satisfied: jsonpointer>=1.9 in /usr/local/lib/python3.12/dist-packages (from jsonpatch<2.0,>=1.33->langchain-core>=0.1->langgraph) (3.0.0)\n",
            "Collecting mypy-extensions>=0.3.0 (from typing-inspect<1,>=0.4.0->dataclasses-json<0.7,>=0.6.7->langchain_community)\n",
            "  Downloading mypy_extensions-1.1.0-py3-none-any.whl.metadata (1.1 kB)\n",
            "Downloading langgraph-0.6.7-py3-none-any.whl (153 kB)\n",
            "\u001b[2K   \u001b[90m━━━━━━━━━━━━━━━━━━━━━━━━━━━━━━━━━━━━━━━━\u001b[0m \u001b[32m153.3/153.3 kB\u001b[0m \u001b[31m7.6 MB/s\u001b[0m eta \u001b[36m0:00:00\u001b[0m\n",
            "\u001b[?25hDownloading langchain_community-0.3.29-py3-none-any.whl (2.5 MB)\n",
            "\u001b[2K   \u001b[90m━━━━━━━━━━━━━━━━━━━━━━━━━━━━━━━━━━━━━━━━\u001b[0m \u001b[32m2.5/2.5 MB\u001b[0m \u001b[31m51.4 MB/s\u001b[0m eta \u001b[36m0:00:00\u001b[0m\n",
            "\u001b[?25hDownloading langchain_openai-0.3.33-py3-none-any.whl (74 kB)\n",
            "\u001b[2K   \u001b[90m━━━━━━━━━━━━━━━━━━━━━━━━━━━━━━━━━━━━━━━━\u001b[0m \u001b[32m75.0/75.0 kB\u001b[0m \u001b[31m6.3 MB/s\u001b[0m eta \u001b[36m0:00:00\u001b[0m\n",
            "\u001b[?25hDownloading tavily_python-0.7.12-py3-none-any.whl (15 kB)\n",
            "Downloading dataclasses_json-0.6.7-py3-none-any.whl (28 kB)\n",
            "Downloading langchain_core-0.3.76-py3-none-any.whl (447 kB)\n",
            "\u001b[2K   \u001b[90m━━━━━━━━━━━━━━━━━━━━━━━━━━━━━━━━━━━━━━━━\u001b[0m \u001b[32m447.5/447.5 kB\u001b[0m \u001b[31m35.7 MB/s\u001b[0m eta \u001b[36m0:00:00\u001b[0m\n",
            "\u001b[?25hDownloading langgraph_checkpoint-2.1.1-py3-none-any.whl (43 kB)\n",
            "\u001b[2K   \u001b[90m━━━━━━━━━━━━━━━━━━━━━━━━━━━━━━━━━━━━━━━━\u001b[0m \u001b[32m43.9/43.9 kB\u001b[0m \u001b[31m4.0 MB/s\u001b[0m eta \u001b[36m0:00:00\u001b[0m\n",
            "\u001b[?25hDownloading langgraph_prebuilt-0.6.4-py3-none-any.whl (28 kB)\n",
            "Downloading langgraph_sdk-0.2.8-py3-none-any.whl (56 kB)\n",
            "\u001b[2K   \u001b[90m━━━━━━━━━━━━━━━━━━━━━━━━━━━━━━━━━━━━━━━━\u001b[0m \u001b[32m56.1/56.1 kB\u001b[0m \u001b[31m5.2 MB/s\u001b[0m eta \u001b[36m0:00:00\u001b[0m\n",
            "\u001b[?25hDownloading requests-2.32.5-py3-none-any.whl (64 kB)\n",
            "\u001b[2K   \u001b[90m━━━━━━━━━━━━━━━━━━━━━━━━━━━━━━━━━━━━━━━━\u001b[0m \u001b[32m64.7/64.7 kB\u001b[0m \u001b[31m6.3 MB/s\u001b[0m eta \u001b[36m0:00:00\u001b[0m\n",
            "\u001b[?25hDownloading marshmallow-3.26.1-py3-none-any.whl (50 kB)\n",
            "\u001b[2K   \u001b[90m━━━━━━━━━━━━━━━━━━━━━━━━━━━━━━━━━━━━━━━━\u001b[0m \u001b[32m50.9/50.9 kB\u001b[0m \u001b[31m4.7 MB/s\u001b[0m eta \u001b[36m0:00:00\u001b[0m\n",
            "\u001b[?25hDownloading ormsgpack-1.10.0-cp312-cp312-manylinux_2_17_x86_64.manylinux2014_x86_64.whl (216 kB)\n",
            "\u001b[2K   \u001b[90m━━━━━━━━━━━━━━━━━━━━━━━━━━━━━━━━━━━━━━━━\u001b[0m \u001b[32m216.7/216.7 kB\u001b[0m \u001b[31m18.6 MB/s\u001b[0m eta \u001b[36m0:00:00\u001b[0m\n",
            "\u001b[?25hDownloading typing_inspect-0.9.0-py3-none-any.whl (8.8 kB)\n",
            "Downloading mypy_extensions-1.1.0-py3-none-any.whl (5.0 kB)\n",
            "Installing collected packages: requests, ormsgpack, mypy-extensions, marshmallow, typing-inspect, tavily-python, langgraph-sdk, dataclasses-json, langchain-core, langgraph-checkpoint, langchain_openai, langgraph-prebuilt, langgraph, langchain_community\n",
            "  Attempting uninstall: requests\n",
            "    Found existing installation: requests 2.32.4\n",
            "    Uninstalling requests-2.32.4:\n",
            "      Successfully uninstalled requests-2.32.4\n",
            "  Attempting uninstall: langchain-core\n",
            "    Found existing installation: langchain-core 0.3.75\n",
            "    Uninstalling langchain-core-0.3.75:\n",
            "      Successfully uninstalled langchain-core-0.3.75\n",
            "\u001b[31mERROR: pip's dependency resolver does not currently take into account all the packages that are installed. This behaviour is the source of the following dependency conflicts.\n",
            "google-colab 1.0.0 requires requests==2.32.4, but you have requests 2.32.5 which is incompatible.\u001b[0m\u001b[31m\n",
            "\u001b[0mSuccessfully installed dataclasses-json-0.6.7 langchain-core-0.3.76 langchain_community-0.3.29 langchain_openai-0.3.33 langgraph-0.6.7 langgraph-checkpoint-2.1.1 langgraph-prebuilt-0.6.4 langgraph-sdk-0.2.8 marshmallow-3.26.1 mypy-extensions-1.1.0 ormsgpack-1.10.0 requests-2.32.5 tavily-python-0.7.12 typing-inspect-0.9.0\n"
          ]
        }
      ],
      "source": [
        "!pip install -U langgraph langchain_community langchain_openai tavily-python"
      ]
    },
    {
      "cell_type": "code",
      "source": [
        "import getpass\n",
        "import os\n",
        "\n",
        "def _set_if_undefined(var: str):\n",
        "    if not os.environ.get(var):\n",
        "        os.environ[var] = getpass.getpass(f\"{var}=\")\n",
        "\n",
        "_set_if_undefined(\"TAVILY_API_KEY\")\n",
        "_set_if_undefined(\"OPENAI_API_KEY\")\n"
      ],
      "metadata": {
        "colab": {
          "base_uri": "https://localhost:8080/"
        },
        "id": "iJv677kXNkJh",
        "outputId": "d4591338-ab62-4f9b-d07d-3ddf27c30cf1"
      },
      "execution_count": 2,
      "outputs": [
        {
          "name": "stdout",
          "output_type": "stream",
          "text": [
            "TAVILY_API_KEY=··········\n",
            "OPENAI_API_KEY=··········\n"
          ]
        }
      ]
    },
    {
      "cell_type": "code",
      "source": [
        "from typing import List\n",
        "from typing_extensions import TypedDict\n",
        "\n",
        "class ReWOO(TypedDict):\n",
        "    task: str\n",
        "    plan_string: str\n",
        "    steps: List\n",
        "    results: dict\n",
        "    result: str\n"
      ],
      "metadata": {
        "id": "-quqpIZTN7Sy"
      },
      "execution_count": 3,
      "outputs": []
    },
    {
      "cell_type": "code",
      "source": [
        "from langchain_openai import ChatOpenAI\n",
        "\n",
        "model = ChatOpenAI(model=\"gpt-4o\")\n",
        "prompt = \"\"\"다음 과업에 대해, 문제를 단계별로 해결할 수 있는 일련의 계획을 작성하라. 각 계획마다 어떤 외부 도구와 그에 해당하는 입력을 사용해 증거를 수집할지 명시하라. 증거는 이후 도구들이 참조할 수 있는 변수 #E (예: #E1, #E2, #E3 등)에 저장할 수 있다. 모든 변수는 독립적이므로 각 도구 입력에 필요한 모든 정보를 포함해야 한다.\n",
        "\n",
        "도구는 다음 중 하나일 수 있다.\n",
        "\n",
        "Google[input]: 구글에서 결과를 검색하는 검색 엔진 작업자다. 간결한 답변이나 특정 주제에 대한 정보를 필요로 할 때 사용하라. 입력은 검색 쿼리여야 한다.\n",
        "\n",
        "LLM[input]: 사전 학습된 대규모 언어 모델(나와 같은)이다. 일반적인 세계 지식, 상식, 또는 복잡한 추리를 활용해야 할 때 사용하라. 외부 도움 없이 문제를 해결할 자신이 있을 때 이 도구를 우선 사용하라. 입력은 어떤 지시나 질문이 될 수 있다.\n",
        "\n",
        "Calculator[input]: 수학적 계산을 수행할 수 있는 도구다. 산술 연산을 수행해야 할 때 사용하라. 입력은 유효한 수학적 표현식이어야 한다.\n",
        "\n",
        "WolframAlpha[input]: 계산 지식 엔진이다. 방정식을 풀거나 기호적 계산을 수행하거나 데이터 기반의 답변을 얻어야 할 때 사용하라. 입력은 수학 또는 과학 문제와 관련된 Wolfram 언어나 자연어 쿼리여야 한다.\n",
        "\n",
        "예를 들어,\n",
        "과업: 앨리스, 밥, 캐롤이 지난주 아르바이트로 총 540달러를 벌었다. 앨리스는 y 달러를 벌었다. 밥은 앨리스가 번 돈의 3배보다 20달러 더 벌었고, 캐롤은 밥보다 15달러를 더 벌었다. 캐롤이 번 돈은 얼마인가?\n",
        "\n",
        "계획: 앨리스가 y 달러를 벌었다고 가정하고, 문제를 대수적 표현으로 변환해 Wolfram Alpha로 푼다.\n",
        "#E1 = WolframAlpha[Solve y + (3y + 20) + ((3y + 20) + 15) = 540]\n",
        "\n",
        "계획: 앨리스가 얼마 벌었는지 알아낸다.\n",
        "#E2 = LLM[What is y, given #E1]\n",
        "\n",
        "계획: 캐롤이 얼마 벌었는지 계산한다.\n",
        "#E3 = Calculator[((3 * #E2) + 20) + 15]\n",
        "\n",
        "시작!\n",
        "계획을 풍부한 세부 사항으로 설명해라. 각 계획은 하나의 #E로만 끝나야 한다.\n",
        "\n",
        "과업: {task}\"\"\"\n"
      ],
      "metadata": {
        "id": "_wLoqtJqN8q4"
      },
      "execution_count": 4,
      "outputs": []
    },
    {
      "cell_type": "code",
      "source": [
        "import re\n",
        "from langchain_core.prompts import ChatPromptTemplate\n",
        "\n",
        "regex_pattern = (\n",
        "    r\"계획:\\s*(.+)\\s*(#E\\d+)\\s*=\\s*(\\w+)\\s*\"\n",
        "    r\"\\[([^\\]]+)\\]\"\n",
        ")\n",
        "prompt_template = ChatPromptTemplate.from_messages(\n",
        "    [(\"user\", prompt)]\n",
        ")\n",
        "planner = prompt_template | model\n",
        "\n",
        "def get_plan(state: ReWOO):\n",
        "    task = state[\"task\"]\n",
        "    result = planner.invoke({\"task\": task})\n",
        "    matches = re.findall(regex_pattern, result.content)\n",
        "    return {\"steps\": matches, \"plan_string\": result.content}\n"
      ],
      "metadata": {
        "id": "xvqkw0FhOVII"
      },
      "execution_count": 10,
      "outputs": []
    },
    {
      "cell_type": "code",
      "source": [
        "from langchain_community.tools.tavily_search import TavilySearchResults\n",
        "\n",
        "search = TavilySearchResults()\n",
        "\n",
        "def _get_current_task(state: ReWOO):\n",
        "    if \"results\" not in state or state[\"results\"] is None:\n",
        "        return 1\n",
        "    if len(state[\"results\"]) == len(state[\"steps\"]):\n",
        "        return None\n",
        "    else:\n",
        "        return len(state[\"results\"]) + 1\n",
        "\n",
        "def tool_execution(state: ReWOO):\n",
        "    _step = _get_current_task(state)\n",
        "    _, step_name, tool, tool_input = state[\"steps\"][_step - 1]\n",
        "    _results = (state[\"results\"] or {}) if \"results\" in state else {}\n",
        "\n",
        "    for k, v in _results.items():\n",
        "        tool_input = tool_input.replace(k, v)\n",
        "\n",
        "    if tool == \"Google\":\n",
        "        result = search.invoke(tool_input)\n",
        "    elif tool == \"LLM\":\n",
        "        result = model.invoke(tool_input)\n",
        "    else:\n",
        "        raise ValueError\n",
        "\n",
        "    _results[step_name] = str(result)\n",
        "    return {\"results\": _results}\n"
      ],
      "metadata": {
        "id": "N0vqV1yaOc7n"
      },
      "execution_count": 11,
      "outputs": []
    },
    {
      "cell_type": "code",
      "source": [
        "solve_prompt = \"\"\"다음 과업 또는 문제를 해결하라. 문제를 해결하기 위해 단계별 계획을 세우고 각 계획에 해당하는 증거를 검색했다. 긴 증거는 관련 없는 정보를 포함할 수 있으니 주의해서 사용하라.\n",
        "\n",
        "{plan}\n",
        "\n",
        "이제 위에 제공된 증거에 따라 질문이나 과업을 해결하라. 추가적인 말 없이 직접 답변하라.\n",
        "\n",
        "과업: {task}\n",
        "응답:\"\"\"\n",
        "\n",
        "def solve(state: ReWOO):\n",
        "    plan = \"\"\n",
        "    for _plan, step_name, tool, tool_input in state[\"steps\"]:\n",
        "        _results = (\n",
        "            (state[\"results\"] or {}) if \"results\" in state else {}\n",
        "        )\n",
        "        for k, v in _results.items():\n",
        "            tool_input = tool_input.replace(k, v)\n",
        "            step_name = step_name.replace(k, v)\n",
        "        plan += (\n",
        "            f\"계획: {_plan}\\n\"\n",
        "            f\"{step_name} = {tool}[{tool_input}]\\n\"\n",
        "        )\n",
        "\n",
        "    prompt = solve_prompt.format(plan=plan, task=state[\"task\"])\n",
        "    result = model.invoke(prompt)\n",
        "    return {\"result\": result.content}\n"
      ],
      "metadata": {
        "id": "8Jt9MlJFOwb_"
      },
      "execution_count": 12,
      "outputs": []
    },
    {
      "cell_type": "code",
      "source": [
        "def _route(state):\n",
        "    _step = _get_current_task(state)\n",
        "    if _step is None:\n",
        "        return \"solve\"\n",
        "    else:\n",
        "        return \"tool\"\n",
        "\n",
        "from langgraph.graph import END, StateGraph, START\n",
        "\n",
        "graph = StateGraph(ReWOO)\n",
        "graph.add_node(\"plan\", get_plan)\n",
        "graph.add_node(\"tool\", tool_execution)\n",
        "graph.add_node(\"solve\", solve)\n",
        "graph.add_edge(\"plan\", \"tool\")\n",
        "graph.add_edge(\"solve\", END)\n",
        "graph.add_conditional_edges(\"tool\", _route)\n",
        "graph.add_edge(START, \"plan\")\n",
        "\n",
        "app = graph.compile()\n"
      ],
      "metadata": {
        "id": "okxUofLXO8-_"
      },
      "execution_count": 13,
      "outputs": []
    },
    {
      "cell_type": "code",
      "source": [
        "task = \"2024년 호주 오픈 남자 단식 우승자의 정확한 고향은 어디인가\"\n",
        "for s in app.stream({\"task\": task}):\n",
        "    print(s)\n",
        "    print(\"---\")\n"
      ],
      "metadata": {
        "colab": {
          "base_uri": "https://localhost:8080/"
        },
        "id": "AX3-Q5A4PJJP",
        "outputId": "7dca9cc2-2f01-4c84-d2f0-088e52d11cfd"
      },
      "execution_count": 14,
      "outputs": [
        {
          "output_type": "stream",
          "name": "stdout",
          "text": [
            "{'plan': {'steps': [('2024년 호주 오픈 남자 단식 우승자가 누구인지 알아본다. 이 정보를 통해 그의 고향을 찾을 수 있다.', '#E1', 'Google', '\"2024 호주 오픈 남자 단식 우승자\"'), ('우승자의 고향을 확인하기 위해 더 많은 정보를 수집한다. #E1에서 우승자의 이름이 있을 것이므로, 이를 사용해 고향을 검색한다.', '#E2', 'Google', '\"#E1 고향\"')], 'plan_string': '계획: 2024년 호주 오픈 남자 단식 우승자가 누구인지 알아본다. 이 정보를 통해 그의 고향을 찾을 수 있다.\\n#E1 = Google[\"2024 호주 오픈 남자 단식 우승자\"]\\n\\n계획: 우승자의 고향을 확인하기 위해 더 많은 정보를 수집한다. #E1에서 우승자의 이름이 있을 것이므로, 이를 사용해 고향을 검색한다.\\n#E2 = Google[\"#E1 고향\"]\\n\\n이 계획을 통해 2024년 호주 오픈 남자 단식 우승자의 정확한 고향을 알아낼 수 있을 것이다.'}}\n",
            "---\n",
            "{'tool': {'results': {'#E1': '[{\\'title\\': \"2024 Australian Open – Men\\'s singles final - Wikipedia\", \\'url\\': \\'https://en.wikipedia.org/wiki/2024_Australian_Open_%E2%80%93_Men%27s_singles_final\\', \\'content\\': \\'The 2024 Australian Open Men\\\\\\'s Singles final was the championship tennis match of the men\\\\\\'s singles tournament at the 2024 Australian Open, contested by fourth-seed Jannik Sinner and third-seed Daniil Medvedev. Sinner came back to defeat Medvedev from two-sets-to-love down, marking the second such loss for Medvedev in the Australian Open final after his defeat to Rafael Nadal in the 2022 final. It was Sinner\\\\\\'s first major final. He became the second Italian man in the Open Era to win a singles [...] | Jannik Sinner (4) vs.  Daniil Medvedev (3) | |\\\\n| | Set | 1 | 2 | 3 | 4 | 5 |  ---  ---  --- | | Jannik Sinner (4) | 3 | 3 | 6 | 6 | 6 | | Daniil Medvedev (3) | 6 | 6 | 4 | 4 | 3 | | |\\\\n| Date | 28 January 2024 |\\\\n| Tournament | Australian Open |\\\\n| Location | Melbourne, Australia |\\\\n| Chair umpire | Aurélie Tourte |\\\\n| Duration | 3 hours, 44 minutes | [...] major, after Adriano Panatta at the 1976 French Open, and the first new Australian Open champion in ten years, since Stan Wawrinka in 2014. At 22, Sinner was the youngest Australian Open men\\\\\\'s singles champion and finalist since Novak Djokovic in 2008. This was the first Australian Open final since 2005 not to feature any of the Big Three \"Big Three (tennis)\") members. The final further established their rivalry, being their 10th meeting and Sinner\\\\\\'s 4th consecutive win over Medvedev.\\', \\'score\\': 0.84948516}, {\\'title\\': \\'Sinner, winner: Italian takes first major at AO 2024 - Australian Open\\', \\'url\\': \\'https://ausopen.com/articles/news/sinner-winner-italian-takes-first-major-ao-2024\\', \\'content\\': \"# Sinner, winner: Italian takes first major at AO 2024\\\\n\\\\n Gill Tan\\\\n\\\\nJannik Sinner is a Grand Slam champion.\\\\n\\\\nThe world No.4 clinched the Australian Open 2024 men\\'s singles title in stunning fashion, overcoming third seed Daniil Medvedev 3-6 3-6 6-4 6-4 6-3 in three hours and 44 minutes on Sunday night at Rod Laver Arena.\\\\n\\\\nMORE: All the stats from the match [...] “Every match I find something where I can improve, and you make me always a much, much better player,” Sinner said. “Your effort has been awesome throughout the whole tournament – the hours off the court and also today’s effort running for every ball is remarkable to see, so I hope you can also lift this trophy here, I’m sure that you can,” he added.\\\\n\\\\n“Every match I find something where I can improve, and you make me always a much, much better player.”\\\\n\\\\nJannik Sinner to Daniil Medvedev [...] A tense fifth set ensued and once again, it was Sinner who took control. The 22-year-old created a trio of break point chances in the sixth game, and, with a clinical cross-court forehand winner, broke Medvedev for a 4-2 lead. With the finish line in sight, the Italian showed no nerves despite the occasion, and clinched championship point with a forehand winner he\\'ll likely never forget.\", \\'score\\': 0.80771893}, {\\'title\\': \"2024 Australian Open – Men\\'s singles - Wikipedia\", \\'url\\': \\'https://en.wikipedia.org/wiki/2024_Australian_Open_%E2%80%93_Men%27s_singles\\', \\'content\\': \\'|  | PR | J Veselý | 6 | 5 | 2 | 3 |  |  |  |  | A Fils | 6 | 1 | 5 | 4 |  |  |  |  | | | | | | |  |\\\\n|  |  | R Safiullin | 6 | 6 | 63 | 4 | 5 |  |  | 28 | T Griekspoor | 3 | 6 | 7 | 6 |  |  |\\\\n|  | 28 | T Griekspoor | 2 | 3 | 77 | 6 | 7 |  |  | | | | | | | | |  | WC | A Cazaux | 66 | 63 | 4 |  |  |  |\\\\n|  | 21 | U Humbert | 6 | 7 | 5 | 6 |  |  |  | | | | | | | | |  |  |  | 9 | H Hurkacz | 78 | 77 | 6 |  |  |  | [...] |  | PR | M Čilić | 1 | 6 | 2 | 5 |  |  |  |  | F Marozsán | 77 | 6 | 6 |  |  |  |  |  | | | | | | |  |\\\\n|  | Q | D Sweeny | 6 | 3 | 4 | 6 | 2 |  |  | 22 | F Cerúndolo | 65 | 4 | 2 |  |  |  |\\\\n|  | 22 | F Cerúndolo | 3 | 6 | 6 | 2 | 6 |  |  | | | | | | | | |  | 12 | T Fritz | 77 | 5 | 6 | 6 |  |  |\\\\n|  | 25 | L Musetti | 77 | 77 | 4 | 6 |  |  |  | | | | | | | | |  |  |  | 7 | S Tsitsipas | 63 | 7 | 3 | 3 |  |  | [...] |  |  | 1 | Novak Djokovic | 1 | 2 | 78 | 3 |  |  |\\\\n|  |  | | | | | | |  |\\\\n|  |  |  | 4 | Jannik Sinner | 6 | 6 | 66 | 6 |  |  |\\\\n|  | 4 | Jannik Sinner | 6 | 77 | 6 |  |  |  |\\\\n|  |  | | | | | | | | |\\\\n|  | 5 | Andrey Rublev | 4 | 65 | 3 |  |  |  |\\\\n|  |  | 4 | Jannik Sinner | 3 | 3 | 6 | 6 | 6 |  |\\\\n|  |  | | | | | | | | | | | | | | | |  |\\\\n|  |  |  | 3 | Daniil Medvedev | 6 | 6 | 4 | 4 | 3 |  |\\\\n|  | 9 | Hubert Hurkacz | 64 | 6 | 3 | 7 | 4 |  |  | | | | | | | | |\\\\n|  |  | | | | | | | | |\\', \\'score\\': 0.80089486}, {\\'title\\': \"Men\\'s Singles | AO - Australian Open\", \\'url\\': \\'https://ausopen.com/history/honour-roll/mens-singles\\', \\'content\\': \\'| Year | Champion | Runner-up | Score |\\\\n ---  --- |\\\\n| 2025 | Jannik Sinner (ITA) | Alexander Zverev (GER) | 6-3 7-6(4) 6-3 |\\\\n| 2024 | Jannik Sinner (ITA) | Daniil Medvedev | 3-6 3-6 6-4 6-4 6-3 |\\\\n| 2023 | Novak Djokovic (SRB) | Stefanos Tsitsipas (GRE) | 6-3 7-6(4) 7-6(5) |\\\\n| 2022 | Rafael Nadal (ESP) | Daniil Medvedev | 2-6 6-7(5) 6-4 6-4 7-5 |\\\\n| 2021 | Novak Djokovic (SRB) | Daniil Medvedev | 7-5 6-2 6-2 |\\\\n| 2020 | Novak Djokovic (SRB) | Dominic Thiem (AUT) | 6-4 4-6 2-6 6-3 6-4 |\\', \\'score\\': 0.7539928}, {\\'title\\': \"Australian Open winners: Men\\'s and women\\'s singles champions\", \\'url\\': \\'https://www.espn.com/tennis/story/_/id/39343618/australian-open-winners-mens-womens-singles-champions\\', \\'content\\': \"The 2025 Australian Open has come to a close. Jannik Sinner beat Alexander Zverev in the men\\'s final for his third Grand Slam title; Madison Keys defeated Aryna Sabalenka in the women\\'s final for her first.\\\\n\\\\nOverall, Novak Djokovic has won the most Australian Open titles in the Open era, with 10. Serena Williams leads the women\\'s side, with seven titles. Let\\'s take a look at every Australian Open winner over the years:\\\\n\\\\nMEN\\'S SINGLES CHAMPIONS\\\\n\\\\n2025: Jannik Sinner\\\\n\\\\n2024: Jannik Sinner [...] 1912: Cecil Parke\\\\n\\\\n1911: Norman Brookes\\\\n\\\\n1910: Rodney Heath\\\\n\\\\n1909: Tony Wilding\\\\n\\\\n1908: Fred Alexander\\\\n\\\\n1907: Horace Rice\\\\n\\\\n1906: Tony Wilding\\\\n\\\\n1905: Rodney Heath\\\\n\\\\nWOMEN\\'S SINGLES CHAMPIONS\\\\n\\\\n2025: Madison Keys\\\\n\\\\n2024: Aryna Sabalenka\\\\n\\\\n2023: Aryna Sabalenka\\\\n\\\\n2022: Ashleigh Barty\\\\n\\\\n2021: Naomi Osaka\\\\n\\\\n2020: Sofia Kenin\\\\n\\\\n2019: Naomi Osaka\\\\n\\\\n2018: Caroline Wozniacki\\\\n\\\\n2017: Serena Williams\\\\n\\\\n2016: Angelique Kerber\\\\n\\\\n2015: Serena Williams\\\\n\\\\n2014: Li Na\\\\n\\\\n2013: Victoria Azarenka\\\\n\\\\n2012: Victoria Azarenka [...] Australian Open winners: Men\\'s and women\\'s singles champions\\\\n\\\\n232dESPN\\\\n\\\\nAs Alcaraz wins another US Open title, can anyone challenge these Big Two?\\\\n\\\\n7dD\\'Arcy Maine\\\\n\\\\nAfter a cruelly disappointing year, Aryna Sabalenka proves why she\\'s No. 1\\\\n\\\\n8dD\\'Arcy Maine\\\\n\\\\nSpain rallies into Davis Cup Final 8; U.S. ousted\\\\n\\\\n10h\\\\n\\\\nTennis to golf: Murray reveals Open qualifying plan\\\\n\\\\n4dESPN\\\\n\\\\nHewitt suspended for pushing anti-doping official\\\\n\\\\n5d\\\\n\\\\nNo fans for Israel-Canada due to security worries\\\\n\\\\n5d\", \\'score\\': 0.7135319}]'}}}\n",
            "---\n",
            "{'tool': {'results': {'#E1': '[{\\'title\\': \"2024 Australian Open – Men\\'s singles final - Wikipedia\", \\'url\\': \\'https://en.wikipedia.org/wiki/2024_Australian_Open_%E2%80%93_Men%27s_singles_final\\', \\'content\\': \\'The 2024 Australian Open Men\\\\\\'s Singles final was the championship tennis match of the men\\\\\\'s singles tournament at the 2024 Australian Open, contested by fourth-seed Jannik Sinner and third-seed Daniil Medvedev. Sinner came back to defeat Medvedev from two-sets-to-love down, marking the second such loss for Medvedev in the Australian Open final after his defeat to Rafael Nadal in the 2022 final. It was Sinner\\\\\\'s first major final. He became the second Italian man in the Open Era to win a singles [...] | Jannik Sinner (4) vs.  Daniil Medvedev (3) | |\\\\n| | Set | 1 | 2 | 3 | 4 | 5 |  ---  ---  --- | | Jannik Sinner (4) | 3 | 3 | 6 | 6 | 6 | | Daniil Medvedev (3) | 6 | 6 | 4 | 4 | 3 | | |\\\\n| Date | 28 January 2024 |\\\\n| Tournament | Australian Open |\\\\n| Location | Melbourne, Australia |\\\\n| Chair umpire | Aurélie Tourte |\\\\n| Duration | 3 hours, 44 minutes | [...] major, after Adriano Panatta at the 1976 French Open, and the first new Australian Open champion in ten years, since Stan Wawrinka in 2014. At 22, Sinner was the youngest Australian Open men\\\\\\'s singles champion and finalist since Novak Djokovic in 2008. This was the first Australian Open final since 2005 not to feature any of the Big Three \"Big Three (tennis)\") members. The final further established their rivalry, being their 10th meeting and Sinner\\\\\\'s 4th consecutive win over Medvedev.\\', \\'score\\': 0.84948516}, {\\'title\\': \\'Sinner, winner: Italian takes first major at AO 2024 - Australian Open\\', \\'url\\': \\'https://ausopen.com/articles/news/sinner-winner-italian-takes-first-major-ao-2024\\', \\'content\\': \"# Sinner, winner: Italian takes first major at AO 2024\\\\n\\\\n Gill Tan\\\\n\\\\nJannik Sinner is a Grand Slam champion.\\\\n\\\\nThe world No.4 clinched the Australian Open 2024 men\\'s singles title in stunning fashion, overcoming third seed Daniil Medvedev 3-6 3-6 6-4 6-4 6-3 in three hours and 44 minutes on Sunday night at Rod Laver Arena.\\\\n\\\\nMORE: All the stats from the match [...] “Every match I find something where I can improve, and you make me always a much, much better player,” Sinner said. “Your effort has been awesome throughout the whole tournament – the hours off the court and also today’s effort running for every ball is remarkable to see, so I hope you can also lift this trophy here, I’m sure that you can,” he added.\\\\n\\\\n“Every match I find something where I can improve, and you make me always a much, much better player.”\\\\n\\\\nJannik Sinner to Daniil Medvedev [...] A tense fifth set ensued and once again, it was Sinner who took control. The 22-year-old created a trio of break point chances in the sixth game, and, with a clinical cross-court forehand winner, broke Medvedev for a 4-2 lead. With the finish line in sight, the Italian showed no nerves despite the occasion, and clinched championship point with a forehand winner he\\'ll likely never forget.\", \\'score\\': 0.80771893}, {\\'title\\': \"2024 Australian Open – Men\\'s singles - Wikipedia\", \\'url\\': \\'https://en.wikipedia.org/wiki/2024_Australian_Open_%E2%80%93_Men%27s_singles\\', \\'content\\': \\'|  | PR | J Veselý | 6 | 5 | 2 | 3 |  |  |  |  | A Fils | 6 | 1 | 5 | 4 |  |  |  |  | | | | | | |  |\\\\n|  |  | R Safiullin | 6 | 6 | 63 | 4 | 5 |  |  | 28 | T Griekspoor | 3 | 6 | 7 | 6 |  |  |\\\\n|  | 28 | T Griekspoor | 2 | 3 | 77 | 6 | 7 |  |  | | | | | | | | |  | WC | A Cazaux | 66 | 63 | 4 |  |  |  |\\\\n|  | 21 | U Humbert | 6 | 7 | 5 | 6 |  |  |  | | | | | | | | |  |  |  | 9 | H Hurkacz | 78 | 77 | 6 |  |  |  | [...] |  | PR | M Čilić | 1 | 6 | 2 | 5 |  |  |  |  | F Marozsán | 77 | 6 | 6 |  |  |  |  |  | | | | | | |  |\\\\n|  | Q | D Sweeny | 6 | 3 | 4 | 6 | 2 |  |  | 22 | F Cerúndolo | 65 | 4 | 2 |  |  |  |\\\\n|  | 22 | F Cerúndolo | 3 | 6 | 6 | 2 | 6 |  |  | | | | | | | | |  | 12 | T Fritz | 77 | 5 | 6 | 6 |  |  |\\\\n|  | 25 | L Musetti | 77 | 77 | 4 | 6 |  |  |  | | | | | | | | |  |  |  | 7 | S Tsitsipas | 63 | 7 | 3 | 3 |  |  | [...] |  |  | 1 | Novak Djokovic | 1 | 2 | 78 | 3 |  |  |\\\\n|  |  | | | | | | |  |\\\\n|  |  |  | 4 | Jannik Sinner | 6 | 6 | 66 | 6 |  |  |\\\\n|  | 4 | Jannik Sinner | 6 | 77 | 6 |  |  |  |\\\\n|  |  | | | | | | | | |\\\\n|  | 5 | Andrey Rublev | 4 | 65 | 3 |  |  |  |\\\\n|  |  | 4 | Jannik Sinner | 3 | 3 | 6 | 6 | 6 |  |\\\\n|  |  | | | | | | | | | | | | | | | |  |\\\\n|  |  |  | 3 | Daniil Medvedev | 6 | 6 | 4 | 4 | 3 |  |\\\\n|  | 9 | Hubert Hurkacz | 64 | 6 | 3 | 7 | 4 |  |  | | | | | | | | |\\\\n|  |  | | | | | | | | |\\', \\'score\\': 0.80089486}, {\\'title\\': \"Men\\'s Singles | AO - Australian Open\", \\'url\\': \\'https://ausopen.com/history/honour-roll/mens-singles\\', \\'content\\': \\'| Year | Champion | Runner-up | Score |\\\\n ---  --- |\\\\n| 2025 | Jannik Sinner (ITA) | Alexander Zverev (GER) | 6-3 7-6(4) 6-3 |\\\\n| 2024 | Jannik Sinner (ITA) | Daniil Medvedev | 3-6 3-6 6-4 6-4 6-3 |\\\\n| 2023 | Novak Djokovic (SRB) | Stefanos Tsitsipas (GRE) | 6-3 7-6(4) 7-6(5) |\\\\n| 2022 | Rafael Nadal (ESP) | Daniil Medvedev | 2-6 6-7(5) 6-4 6-4 7-5 |\\\\n| 2021 | Novak Djokovic (SRB) | Daniil Medvedev | 7-5 6-2 6-2 |\\\\n| 2020 | Novak Djokovic (SRB) | Dominic Thiem (AUT) | 6-4 4-6 2-6 6-3 6-4 |\\', \\'score\\': 0.7539928}, {\\'title\\': \"Australian Open winners: Men\\'s and women\\'s singles champions\", \\'url\\': \\'https://www.espn.com/tennis/story/_/id/39343618/australian-open-winners-mens-womens-singles-champions\\', \\'content\\': \"The 2025 Australian Open has come to a close. Jannik Sinner beat Alexander Zverev in the men\\'s final for his third Grand Slam title; Madison Keys defeated Aryna Sabalenka in the women\\'s final for her first.\\\\n\\\\nOverall, Novak Djokovic has won the most Australian Open titles in the Open era, with 10. Serena Williams leads the women\\'s side, with seven titles. Let\\'s take a look at every Australian Open winner over the years:\\\\n\\\\nMEN\\'S SINGLES CHAMPIONS\\\\n\\\\n2025: Jannik Sinner\\\\n\\\\n2024: Jannik Sinner [...] 1912: Cecil Parke\\\\n\\\\n1911: Norman Brookes\\\\n\\\\n1910: Rodney Heath\\\\n\\\\n1909: Tony Wilding\\\\n\\\\n1908: Fred Alexander\\\\n\\\\n1907: Horace Rice\\\\n\\\\n1906: Tony Wilding\\\\n\\\\n1905: Rodney Heath\\\\n\\\\nWOMEN\\'S SINGLES CHAMPIONS\\\\n\\\\n2025: Madison Keys\\\\n\\\\n2024: Aryna Sabalenka\\\\n\\\\n2023: Aryna Sabalenka\\\\n\\\\n2022: Ashleigh Barty\\\\n\\\\n2021: Naomi Osaka\\\\n\\\\n2020: Sofia Kenin\\\\n\\\\n2019: Naomi Osaka\\\\n\\\\n2018: Caroline Wozniacki\\\\n\\\\n2017: Serena Williams\\\\n\\\\n2016: Angelique Kerber\\\\n\\\\n2015: Serena Williams\\\\n\\\\n2014: Li Na\\\\n\\\\n2013: Victoria Azarenka\\\\n\\\\n2012: Victoria Azarenka [...] Australian Open winners: Men\\'s and women\\'s singles champions\\\\n\\\\n232dESPN\\\\n\\\\nAs Alcaraz wins another US Open title, can anyone challenge these Big Two?\\\\n\\\\n7dD\\'Arcy Maine\\\\n\\\\nAfter a cruelly disappointing year, Aryna Sabalenka proves why she\\'s No. 1\\\\n\\\\n8dD\\'Arcy Maine\\\\n\\\\nSpain rallies into Davis Cup Final 8; U.S. ousted\\\\n\\\\n10h\\\\n\\\\nTennis to golf: Murray reveals Open qualifying plan\\\\n\\\\n4dESPN\\\\n\\\\nHewitt suspended for pushing anti-doping official\\\\n\\\\n5d\\\\n\\\\nNo fans for Israel-Canada due to security worries\\\\n\\\\n5d\", \\'score\\': 0.7135319}]', '#E2': \"HTTPError('400 Client Error: Bad Request for url: https://api.tavily.com/search')\"}}}\n",
            "---\n",
            "{'solve': {'result': '2024년 호주 오픈 남자 단식 우승자는 Jannik Sinner입니다. 그의 고향은 이탈리아의 San Candido입니다.'}}\n",
            "---\n"
          ]
        }
      ]
    }
  ]
}